{
 "cells": [
  {
   "cell_type": "code",
   "execution_count": 1,
   "id": "ec5b0319-c6d2-46cc-96e4-e578cd5aaf67",
   "metadata": {},
   "outputs": [],
   "source": [
    "from pyspark.sql import SparkSession\n",
    "from pyspark.sql.functions import *\n",
    "from pyspark.sql.window import Window"
   ]
  },
  {
   "cell_type": "code",
   "execution_count": 2,
   "id": "e20c647f-ba16-48c7-93c1-01a45f70162e",
   "metadata": {},
   "outputs": [],
   "source": [
    "spark = SparkSession.builder \\\n",
    ".appName('OlistEDA') \\\n",
    ".getOrCreate()"
   ]
  },
  {
   "cell_type": "code",
   "execution_count": 3,
   "id": "016b152c-141a-46cd-905b-69d078530db2",
   "metadata": {},
   "outputs": [
    {
     "data": {
      "text/html": [
       "\n",
       "            <div>\n",
       "                <p><b>SparkSession - in-memory</b></p>\n",
       "                \n",
       "        <div>\n",
       "            <p><b>SparkContext</b></p>\n",
       "\n",
       "            <p><a href=\"http://DESKTOP-19NICRJ.mshome.net:4040\">Spark UI</a></p>\n",
       "\n",
       "            <dl>\n",
       "              <dt>Version</dt>\n",
       "                <dd><code>v3.5.1</code></dd>\n",
       "              <dt>Master</dt>\n",
       "                <dd><code>local[*]</code></dd>\n",
       "              <dt>AppName</dt>\n",
       "                <dd><code>OlistEDA</code></dd>\n",
       "            </dl>\n",
       "        </div>\n",
       "        \n",
       "            </div>\n",
       "        "
      ],
      "text/plain": [
       "<pyspark.sql.session.SparkSession at 0x13734534160>"
      ]
     },
     "execution_count": 3,
     "metadata": {},
     "output_type": "execute_result"
    }
   ],
   "source": [
    "spark"
   ]
  },
  {
   "cell_type": "code",
   "execution_count": 4,
   "id": "d2e2922c-7624-4deb-9285-3ab8a1a3c4c2",
   "metadata": {},
   "outputs": [
    {
     "name": "stdout",
     "output_type": "stream",
     "text": [
      "Found 10 items\n",
      "-rw-r--r--   1 User supergroup    9033957 2025-09-19 09:22 /user/winardi/data/olist/olist_customers_dataset.csv\n",
      "-rw-r--r--   1 User supergroup   61273883 2025-09-19 09:22 /user/winardi/data/olist/olist_geolocation_dataset.csv\n",
      "-rw-r--r--   1 User supergroup   15438671 2025-09-19 09:22 /user/winardi/data/olist/olist_order_items_dataset.csv\n",
      "-rw-r--r--   1 User supergroup    5777138 2025-09-19 09:22 /user/winardi/data/olist/olist_order_payments_dataset.csv\n",
      "-rw-r--r--   1 User supergroup   14451670 2025-09-19 09:22 /user/winardi/data/olist/olist_order_reviews_dataset.csv\n",
      "-rw-r--r--   1 User supergroup   17654914 2025-09-19 09:22 /user/winardi/data/olist/olist_orders_dataset.csv\n",
      "-rw-r--r--   1 User supergroup    2379446 2025-09-19 09:22 /user/winardi/data/olist/olist_products_dataset.csv\n",
      "-rw-r--r--   1 User supergroup     174703 2025-09-19 09:22 /user/winardi/data/olist/olist_sellers_dataset.csv\n",
      "drwxr-xr-x   - User supergroup          0 2025-09-30 13:27 /user/winardi/data/olist/processed\n",
      "-rw-r--r--   1 User supergroup       2613 2025-09-19 09:22 /user/winardi/data/olist/product_category_name_translation.csv\n"
     ]
    }
   ],
   "source": [
    "!hdfs dfs -ls /user/winardi/data/olist/"
   ]
  },
  {
   "cell_type": "code",
   "execution_count": 5,
   "id": "c7777709-0b98-448a-8e5b-2d513fc0dc59",
   "metadata": {},
   "outputs": [],
   "source": [
    "hdfs_path =\"hdfs://localhost:9000/user/winardi/data/olist/\""
   ]
  },
  {
   "cell_type": "code",
   "execution_count": 6,
   "id": "be27d0e3-4431-49a7-b615-ad8c42ecb125",
   "metadata": {},
   "outputs": [],
   "source": [
    "customers_df = spark.read.csv(hdfs_path + \"olist_customers_dataset.csv\", header=True, inferSchema=True)\n",
    "orders_df = spark.read.csv(hdfs_path + \"olist_orders_dataset.csv\", header=True, inferSchema=True)\n",
    "order_items_df = spark.read.csv(hdfs_path + \"olist_order_items_dataset.csv\", header=True, inferSchema=True)\n",
    "payments_df = spark.read.csv(hdfs_path + \"olist_order_payments_dataset.csv\", header=True, inferSchema=True)\n",
    "reviews_df = spark.read.csv(hdfs_path + \"olist_order_reviews_dataset.csv\", header=True, inferSchema=True, quote='\"', escape='\"', multiLine=True)\n",
    "products_df = spark.read.csv(hdfs_path + \"olist_products_dataset.csv\", header=True, inferSchema=True)\n",
    "sellers_df = spark.read.csv(hdfs_path + \"olist_sellers_dataset.csv\", header=True, inferSchema=True)\n",
    "geolocation_df = spark.read.csv(hdfs_path + \"olist_geolocation_dataset.csv\", header=True, inferSchema=True)\n",
    "category_translation_df = spark.read.csv(hdfs_path + \"product_category_name_translation.csv\", header=True, inferSchema=True)"
   ]
  },
  {
   "cell_type": "markdown",
   "id": "10e5fe90-f041-4438-87f6-d9f69749f62f",
   "metadata": {},
   "source": [
    "# Data Ingestion and Exploration"
   ]
  },
  {
   "cell_type": "markdown",
   "id": "40681402-a602-4ffa-a2f8-74fc80889510",
   "metadata": {},
   "source": [
    "## Cek Missing Values & Duplicate untuk Semua Tabel"
   ]
  },
  {
   "cell_type": "code",
   "execution_count": 7,
   "id": "74d03144-74e5-4a9a-9727-0d93260f0533",
   "metadata": {},
   "outputs": [],
   "source": [
    "from pyspark.sql.functions import col, count, when, lit\n",
    "\n",
    "def null_count_report(df):\n",
    "    reports = []\n",
    "    for c in df.columns:\n",
    "        reports.append(\n",
    "            df.select(count(when(col(c).isNull(), 1)).alias(\"null_count\"))\n",
    "              .withColumn(\"column_name\", lit(c))\n",
    "        )\n",
    "    result = reports[0]\n",
    "    for r in reports[1:]:\n",
    "        result = result.union(r)\n",
    "    return result.select(\"column_name\", \"null_count\")"
   ]
  },
  {
   "cell_type": "markdown",
   "id": "1a10e9bf-b961-414e-ae04-19cb23ad4717",
   "metadata": {},
   "source": [
    "#### Customer_df"
   ]
  },
  {
   "cell_type": "code",
   "execution_count": 8,
   "id": "f23afe1b-e600-473c-b51a-a7becbd6ce06",
   "metadata": {},
   "outputs": [
    {
     "name": "stdout",
     "output_type": "stream",
     "text": [
      "root\n",
      " |-- customer_id: string (nullable = true)\n",
      " |-- customer_unique_id: string (nullable = true)\n",
      " |-- customer_zip_code_prefix: integer (nullable = true)\n",
      " |-- customer_city: string (nullable = true)\n",
      " |-- customer_state: string (nullable = true)\n",
      "\n"
     ]
    }
   ],
   "source": [
    "customers_df.printSchema()"
   ]
  },
  {
   "cell_type": "code",
   "execution_count": 9,
   "id": "e8149e74-ea04-426f-bc68-384ed089e4b0",
   "metadata": {},
   "outputs": [
    {
     "name": "stdout",
     "output_type": "stream",
     "text": [
      "Customers : 99441 rows\n"
     ]
    }
   ],
   "source": [
    "print(f'Customers : {customers_df.count()} rows')"
   ]
  },
  {
   "cell_type": "code",
   "execution_count": 10,
   "id": "1422a931-c682-4607-bee7-90f2d1b6d959",
   "metadata": {},
   "outputs": [
    {
     "name": "stdout",
     "output_type": "stream",
     "text": [
      "+------------------------+----------+\n",
      "|column_name             |null_count|\n",
      "+------------------------+----------+\n",
      "|customer_id             |0         |\n",
      "|customer_unique_id      |0         |\n",
      "|customer_zip_code_prefix|0         |\n",
      "|customer_city           |0         |\n",
      "|customer_state          |0         |\n",
      "+------------------------+----------+\n",
      "\n"
     ]
    }
   ],
   "source": [
    "# check nulls value\n",
    "null_count_report(customers_df).show(truncate=False)"
   ]
  },
  {
   "cell_type": "code",
   "execution_count": 11,
   "id": "454fb9cb-b520-41cb-8e86-4612953aab66",
   "metadata": {},
   "outputs": [
    {
     "name": "stdout",
     "output_type": "stream",
     "text": [
      "+-----------+-----+\n",
      "|customer_id|count|\n",
      "+-----------+-----+\n",
      "+-----------+-----+\n",
      "\n"
     ]
    }
   ],
   "source": [
    "# Duplicate Values\n",
    "customers_df.groupBy('customer_id').count().filter('count>1').show()"
   ]
  },
  {
   "cell_type": "markdown",
   "id": "493c8f56-d2ae-41e7-8d38-ff38c2cfb95c",
   "metadata": {},
   "source": [
    "#### orders_df"
   ]
  },
  {
   "cell_type": "code",
   "execution_count": 12,
   "id": "ba1d5994-b269-4c3a-b956-ef0f9a9b9916",
   "metadata": {},
   "outputs": [
    {
     "name": "stdout",
     "output_type": "stream",
     "text": [
      "root\n",
      " |-- order_id: string (nullable = true)\n",
      " |-- customer_id: string (nullable = true)\n",
      " |-- order_status: string (nullable = true)\n",
      " |-- order_purchase_timestamp: timestamp (nullable = true)\n",
      " |-- order_approved_at: timestamp (nullable = true)\n",
      " |-- order_delivered_carrier_date: timestamp (nullable = true)\n",
      " |-- order_delivered_customer_date: timestamp (nullable = true)\n",
      " |-- order_estimated_delivery_date: timestamp (nullable = true)\n",
      "\n"
     ]
    }
   ],
   "source": [
    "orders_df.printSchema()"
   ]
  },
  {
   "cell_type": "code",
   "execution_count": 13,
   "id": "ff13a65f-291a-4ddf-a194-3933e97b3230",
   "metadata": {},
   "outputs": [
    {
     "name": "stdout",
     "output_type": "stream",
     "text": [
      "Orders : 99441 rows\n"
     ]
    }
   ],
   "source": [
    "print(f'Orders : {orders_df.count()} rows')"
   ]
  },
  {
   "cell_type": "code",
   "execution_count": 14,
   "id": "44e43239-131c-4357-9dbb-107a1a0f5cc7",
   "metadata": {},
   "outputs": [
    {
     "name": "stdout",
     "output_type": "stream",
     "text": [
      "+-----------------------------+----------+\n",
      "|column_name                  |null_count|\n",
      "+-----------------------------+----------+\n",
      "|order_id                     |0         |\n",
      "|customer_id                  |0         |\n",
      "|order_status                 |0         |\n",
      "|order_purchase_timestamp     |0         |\n",
      "|order_approved_at            |160       |\n",
      "|order_delivered_carrier_date |1783      |\n",
      "|order_delivered_customer_date|2965      |\n",
      "|order_estimated_delivery_date|0         |\n",
      "+-----------------------------+----------+\n",
      "\n"
     ]
    }
   ],
   "source": [
    "null_count_report(orders_df).show(truncate=False)"
   ]
  },
  {
   "cell_type": "code",
   "execution_count": 15,
   "id": "82eda4df-a5b6-4c5f-be77-8b56d4e3bcb0",
   "metadata": {},
   "outputs": [
    {
     "name": "stdout",
     "output_type": "stream",
     "text": [
      "Delivered tapi tanggal customer null: 8\n"
     ]
    }
   ],
   "source": [
    "# Cek order delivered tapi timestamp delivery kosong (anomali)\n",
    "delivered_nulls = orders_df.filter(\n",
    "    (col(\"order_status\") == \"delivered\") &\n",
    "    (col(\"order_delivered_customer_date\").isNull())\n",
    ")\n",
    "print(\"Delivered tapi tanggal customer null:\", delivered_nulls.count())"
   ]
  },
  {
   "cell_type": "code",
   "execution_count": 16,
   "id": "201b2d32-2b8b-4977-9865-1e1ab7dd2e57",
   "metadata": {},
   "outputs": [
    {
     "name": "stdout",
     "output_type": "stream",
     "text": [
      "+-------------------------+-----+\n",
      "|timestamp_null_status    |count|\n",
      "+-------------------------+-----+\n",
      "|valid_null_until_carrier |1183 |\n",
      "|valid_null_until_approved|1636 |\n",
      "|valid_null_purchase_only |146  |\n",
      "|complete                 |96476|\n",
      "+-------------------------+-----+\n",
      "\n"
     ]
    }
   ],
   "source": [
    "from pyspark.sql.functions import col\n",
    "\n",
    "# Flag apakah null wajar atau tidak\n",
    "orders_checked = orders_df.withColumn(\n",
    "    \"timestamp_null_status\",\n",
    "    # kalau approved_at null → wajar kalau carrier_date & customer_date juga null\n",
    "    when(col(\"order_approved_at\").isNull() & \n",
    "         (col(\"order_delivered_carrier_date\").isNull()) &\n",
    "         (col(\"order_delivered_customer_date\").isNull()), \"valid_null_purchase_only\")\n",
    "    # kalau carrier_date null → wajar kalau customer_date juga null\n",
    "    .when(col(\"order_delivered_carrier_date\").isNull() & \n",
    "          (col(\"order_delivered_customer_date\").isNull()), \"valid_null_until_approved\")\n",
    "    # kalau customer_date null tapi carrier_date ada → artinya sedang dalam proses pengiriman\n",
    "    .when(col(\"order_delivered_customer_date\").isNull() & \n",
    "          col(\"order_delivered_carrier_date\").isNotNull(), \"valid_null_until_carrier\")\n",
    "    # kalau delivered status tapi masih null → anomali\n",
    "    .when((col(\"order_status\") == \"delivered\") & col(\"order_delivered_customer_date\").isNull(), \"invalid_null_expected_delivery\")\n",
    "    # selain itu → complete\n",
    "    .otherwise(\"complete\")\n",
    ")\n",
    "\n",
    "orders_checked.groupBy(\"timestamp_null_status\").count().show(truncate=False)\n"
   ]
  },
  {
   "cell_type": "code",
   "execution_count": 17,
   "id": "4ce499cb-3d3b-4c2a-912e-673092a1cf53",
   "metadata": {},
   "outputs": [
    {
     "name": "stdout",
     "output_type": "stream",
     "text": [
      "+------------------------+-----+\n",
      "|invalid_null_status     |count|\n",
      "+------------------------+-----+\n",
      "|valid                   |99426|\n",
      "|invalid_null_in_approved|14   |\n",
      "|invalid_null_in_carrier |1    |\n",
      "+------------------------+-----+\n",
      "\n"
     ]
    }
   ],
   "source": [
    "orders_with_invalid = orders_df.withColumn(\n",
    "    \"invalid_null_status\",\n",
    "    when(\n",
    "        (col(\"order_approved_at\").isNull() & \n",
    "         (col(\"order_delivered_carrier_date\").isNotNull() | col(\"order_delivered_customer_date\").isNotNull())),\n",
    "        \"invalid_null_in_approved\"\n",
    "    ).when(\n",
    "        (col(\"order_delivered_carrier_date\").isNull() & \n",
    "         col(\"order_delivered_customer_date\").isNotNull()),\n",
    "        \"invalid_null_in_carrier\"\n",
    "    ).otherwise(\"valid\")\n",
    ")\n",
    "\n",
    "orders_with_invalid.groupBy(\"invalid_null_status\").count().show(truncate=False)"
   ]
  },
  {
   "cell_type": "code",
   "execution_count": 18,
   "id": "a168f302-f499-4157-bf8f-a8f7b99ebbb0",
   "metadata": {},
   "outputs": [
    {
     "name": "stdout",
     "output_type": "stream",
     "text": [
      "+--------+-----+\n",
      "|order_id|count|\n",
      "+--------+-----+\n",
      "+--------+-----+\n",
      "\n"
     ]
    }
   ],
   "source": [
    "# Duplicate Values\n",
    "orders_df.groupBy('order_id').count().filter('count>1').show()"
   ]
  },
  {
   "cell_type": "markdown",
   "id": "3707e2eb-b0d8-403e-b8f7-03907c57d36d",
   "metadata": {},
   "source": [
    "#### order_items_df"
   ]
  },
  {
   "cell_type": "code",
   "execution_count": 19,
   "id": "34c766a8-8b27-4ad6-8e8a-50b81c775b10",
   "metadata": {},
   "outputs": [
    {
     "name": "stdout",
     "output_type": "stream",
     "text": [
      "root\n",
      " |-- order_id: string (nullable = true)\n",
      " |-- order_item_id: integer (nullable = true)\n",
      " |-- product_id: string (nullable = true)\n",
      " |-- seller_id: string (nullable = true)\n",
      " |-- shipping_limit_date: timestamp (nullable = true)\n",
      " |-- price: double (nullable = true)\n",
      " |-- freight_value: double (nullable = true)\n",
      "\n"
     ]
    }
   ],
   "source": [
    "order_items_df.printSchema()"
   ]
  },
  {
   "cell_type": "code",
   "execution_count": 20,
   "id": "4021e8ee-e86f-4e42-a48b-e3d0fa2408c6",
   "metadata": {},
   "outputs": [
    {
     "name": "stdout",
     "output_type": "stream",
     "text": [
      "Order Items : 112650 rows\n"
     ]
    }
   ],
   "source": [
    "print(f'Order Items : {order_items_df.count()} rows')"
   ]
  },
  {
   "cell_type": "code",
   "execution_count": 21,
   "id": "c7d89020-53a0-48c4-9e6f-1f8b69cf7195",
   "metadata": {},
   "outputs": [
    {
     "name": "stdout",
     "output_type": "stream",
     "text": [
      "+-------------------+----------+\n",
      "|column_name        |null_count|\n",
      "+-------------------+----------+\n",
      "|order_id           |0         |\n",
      "|order_item_id      |0         |\n",
      "|product_id         |0         |\n",
      "|seller_id          |0         |\n",
      "|shipping_limit_date|0         |\n",
      "|price              |0         |\n",
      "|freight_value      |0         |\n",
      "+-------------------+----------+\n",
      "\n"
     ]
    }
   ],
   "source": [
    "null_count_report(order_items_df).show(truncate=False)"
   ]
  },
  {
   "cell_type": "code",
   "execution_count": 22,
   "id": "b3e20e66-0371-45cf-ac4b-de017cdb393c",
   "metadata": {},
   "outputs": [
    {
     "name": "stdout",
     "output_type": "stream",
     "text": [
      "+--------+-------------+-----+\n",
      "|order_id|order_item_id|count|\n",
      "+--------+-------------+-----+\n",
      "+--------+-------------+-----+\n",
      "\n"
     ]
    }
   ],
   "source": [
    "order_items_df.groupBy('order_id', 'order_item_id').count().filter('count>1').show()"
   ]
  },
  {
   "cell_type": "markdown",
   "id": "6f3be2df-2ea3-4e76-aa60-8abde9028f88",
   "metadata": {},
   "source": [
    "#### payments_df"
   ]
  },
  {
   "cell_type": "code",
   "execution_count": 23,
   "id": "c68a2b89-f837-408f-9d68-b2f7da93097b",
   "metadata": {},
   "outputs": [
    {
     "name": "stdout",
     "output_type": "stream",
     "text": [
      "root\n",
      " |-- order_id: string (nullable = true)\n",
      " |-- payment_sequential: integer (nullable = true)\n",
      " |-- payment_type: string (nullable = true)\n",
      " |-- payment_installments: integer (nullable = true)\n",
      " |-- payment_value: double (nullable = true)\n",
      "\n"
     ]
    }
   ],
   "source": [
    "payments_df.printSchema()"
   ]
  },
  {
   "cell_type": "code",
   "execution_count": 24,
   "id": "3e6285de-2d30-42c1-87ef-949d3bf7ac25",
   "metadata": {},
   "outputs": [
    {
     "name": "stdout",
     "output_type": "stream",
     "text": [
      "Payments : 103886 rows\n"
     ]
    }
   ],
   "source": [
    "print(f'Payments : {payments_df.count()} rows')"
   ]
  },
  {
   "cell_type": "code",
   "execution_count": 25,
   "id": "1e91d99e-2c70-4d9b-b665-7b585e92153a",
   "metadata": {},
   "outputs": [
    {
     "name": "stdout",
     "output_type": "stream",
     "text": [
      "+--------------------+----------+\n",
      "|column_name         |null_count|\n",
      "+--------------------+----------+\n",
      "|order_id            |0         |\n",
      "|payment_sequential  |0         |\n",
      "|payment_type        |0         |\n",
      "|payment_installments|0         |\n",
      "|payment_value       |0         |\n",
      "+--------------------+----------+\n",
      "\n"
     ]
    }
   ],
   "source": [
    "null_count_report(payments_df).show(truncate=False)"
   ]
  },
  {
   "cell_type": "code",
   "execution_count": 26,
   "id": "9e65219b-c9a2-48c6-961d-41097c803d10",
   "metadata": {},
   "outputs": [
    {
     "name": "stdout",
     "output_type": "stream",
     "text": [
      "+--------+------------------+-----+\n",
      "|order_id|payment_sequential|count|\n",
      "+--------+------------------+-----+\n",
      "+--------+------------------+-----+\n",
      "\n"
     ]
    }
   ],
   "source": [
    "payments_df.groupBy('order_id','payment_sequential').count().filter('count>1').show(truncate=False)"
   ]
  },
  {
   "cell_type": "markdown",
   "id": "5ed886f0-36ac-45b3-812a-359421cab427",
   "metadata": {},
   "source": [
    "#### reviews_df"
   ]
  },
  {
   "cell_type": "code",
   "execution_count": 27,
   "id": "4feab2df-420f-4511-9b22-237f077f42d0",
   "metadata": {},
   "outputs": [
    {
     "name": "stdout",
     "output_type": "stream",
     "text": [
      "root\n",
      " |-- review_id: string (nullable = true)\n",
      " |-- order_id: string (nullable = true)\n",
      " |-- review_score: integer (nullable = true)\n",
      " |-- review_comment_title: string (nullable = true)\n",
      " |-- review_comment_message: string (nullable = true)\n",
      " |-- review_creation_date: timestamp (nullable = true)\n",
      " |-- review_answer_timestamp: timestamp (nullable = true)\n",
      "\n"
     ]
    }
   ],
   "source": [
    "reviews_df.printSchema()"
   ]
  },
  {
   "cell_type": "code",
   "execution_count": 28,
   "id": "a45db8fe-440c-4a4b-9945-56a12b9690ef",
   "metadata": {},
   "outputs": [
    {
     "name": "stdout",
     "output_type": "stream",
     "text": [
      "Reviews : 99224 rows\n"
     ]
    }
   ],
   "source": [
    "print(f'Reviews : {reviews_df.count()} rows')"
   ]
  },
  {
   "cell_type": "code",
   "execution_count": 29,
   "id": "62d54b1a-c3b0-4dd9-ac30-1d632df571e4",
   "metadata": {
    "scrolled": true
   },
   "outputs": [
    {
     "name": "stdout",
     "output_type": "stream",
     "text": [
      "+-----------------------+----------+\n",
      "|column_name            |null_count|\n",
      "+-----------------------+----------+\n",
      "|review_id              |0         |\n",
      "|order_id               |0         |\n",
      "|review_score           |0         |\n",
      "|review_comment_title   |87656     |\n",
      "|review_comment_message |58247     |\n",
      "|review_creation_date   |0         |\n",
      "|review_answer_timestamp|0         |\n",
      "+-----------------------+----------+\n",
      "\n"
     ]
    }
   ],
   "source": [
    "null_count_report(reviews_df).show(truncate=False)"
   ]
  },
  {
   "cell_type": "code",
   "execution_count": 30,
   "id": "48f3b285-1f0e-498e-82b2-ced31a86e457",
   "metadata": {},
   "outputs": [
    {
     "name": "stdout",
     "output_type": "stream",
     "text": [
      "+---------+--------+-----+\n",
      "|review_id|order_id|count|\n",
      "+---------+--------+-----+\n",
      "+---------+--------+-----+\n",
      "\n"
     ]
    }
   ],
   "source": [
    "filtered_reviews = reviews_df.groupBy('review_id','order_id').count().filter('count>1')\n",
    "filtered_reviews.show()"
   ]
  },
  {
   "cell_type": "markdown",
   "id": "12b6fb14-44c5-4945-b8f8-7c7bd994d810",
   "metadata": {},
   "source": [
    "#### products_df"
   ]
  },
  {
   "cell_type": "code",
   "execution_count": 31,
   "id": "1b7a076b-905d-44c0-8b26-b0e73b7371bb",
   "metadata": {},
   "outputs": [
    {
     "name": "stdout",
     "output_type": "stream",
     "text": [
      "root\n",
      " |-- product_id: string (nullable = true)\n",
      " |-- product_category_name: string (nullable = true)\n",
      " |-- product_name_lenght: integer (nullable = true)\n",
      " |-- product_description_lenght: integer (nullable = true)\n",
      " |-- product_photos_qty: integer (nullable = true)\n",
      " |-- product_weight_g: integer (nullable = true)\n",
      " |-- product_length_cm: integer (nullable = true)\n",
      " |-- product_height_cm: integer (nullable = true)\n",
      " |-- product_width_cm: integer (nullable = true)\n",
      "\n"
     ]
    }
   ],
   "source": [
    "products_df.printSchema()"
   ]
  },
  {
   "cell_type": "code",
   "execution_count": 32,
   "id": "532b8334-2564-4624-b4be-7528efcb5bc0",
   "metadata": {},
   "outputs": [
    {
     "name": "stdout",
     "output_type": "stream",
     "text": [
      "Products : 32951 rows\n"
     ]
    }
   ],
   "source": [
    "print(f'Products : {products_df.count()} rows')"
   ]
  },
  {
   "cell_type": "code",
   "execution_count": 33,
   "id": "f0c2c8f8-bd80-462c-9bd8-af6a73dbdef5",
   "metadata": {},
   "outputs": [
    {
     "name": "stdout",
     "output_type": "stream",
     "text": [
      "+--------------------------+----------+\n",
      "|column_name               |null_count|\n",
      "+--------------------------+----------+\n",
      "|product_id                |0         |\n",
      "|product_category_name     |610       |\n",
      "|product_name_lenght       |610       |\n",
      "|product_description_lenght|610       |\n",
      "|product_photos_qty        |610       |\n",
      "|product_weight_g          |2         |\n",
      "|product_length_cm         |2         |\n",
      "|product_height_cm         |2         |\n",
      "|product_width_cm          |2         |\n",
      "+--------------------------+----------+\n",
      "\n"
     ]
    }
   ],
   "source": [
    "null_count_report(products_df).show(truncate=False)"
   ]
  },
  {
   "cell_type": "code",
   "execution_count": 34,
   "id": "d998e4b2-ac5f-486e-90e4-531f14ba0011",
   "metadata": {},
   "outputs": [
    {
     "name": "stdout",
     "output_type": "stream",
     "text": [
      "+----------+-----+\n",
      "|product_id|count|\n",
      "+----------+-----+\n",
      "+----------+-----+\n",
      "\n"
     ]
    }
   ],
   "source": [
    "products_df.groupBy('product_id').count().filter('count>1').show()"
   ]
  },
  {
   "cell_type": "code",
   "execution_count": 35,
   "id": "9de420eb-a845-4d3c-9d67-d1ec754adbf6",
   "metadata": {},
   "outputs": [
    {
     "name": "stdout",
     "output_type": "stream",
     "text": [
      "Jumlah orders terkait produk bermasalah: 18\n"
     ]
    }
   ],
   "source": [
    "missing_products = products_df.filter(\n",
    "    col(\"product_weight_g\").isNull() | \n",
    "    col(\"product_length_cm\").isNull() |\n",
    "    col(\"product_height_cm\").isNull() |\n",
    "    col(\"product_width_cm\").isNull()\n",
    ").select(\"product_id\")\n",
    "\n",
    "related_orders = order_items_df.join(missing_products, on=\"product_id\", how=\"inner\")\n",
    "print(\"Jumlah orders terkait produk bermasalah:\", related_orders.count())"
   ]
  },
  {
   "cell_type": "markdown",
   "id": "5fe41c93-5025-4671-bcf4-8b2f3d8f5728",
   "metadata": {},
   "source": [
    "#### sellers_df"
   ]
  },
  {
   "cell_type": "code",
   "execution_count": 36,
   "id": "e6e998d3-536c-4dfd-922e-67a32dae342e",
   "metadata": {},
   "outputs": [
    {
     "name": "stdout",
     "output_type": "stream",
     "text": [
      "root\n",
      " |-- seller_id: string (nullable = true)\n",
      " |-- seller_zip_code_prefix: integer (nullable = true)\n",
      " |-- seller_city: string (nullable = true)\n",
      " |-- seller_state: string (nullable = true)\n",
      "\n"
     ]
    }
   ],
   "source": [
    "sellers_df.printSchema()"
   ]
  },
  {
   "cell_type": "code",
   "execution_count": 37,
   "id": "9803dc71-d000-4076-9935-b0fa01866b57",
   "metadata": {},
   "outputs": [
    {
     "name": "stdout",
     "output_type": "stream",
     "text": [
      "Sellers : 3095 rows\n"
     ]
    }
   ],
   "source": [
    "print(f'Sellers : {sellers_df.count()} rows')"
   ]
  },
  {
   "cell_type": "code",
   "execution_count": 38,
   "id": "11ba904a-f59a-4be4-80b0-360d41170bf3",
   "metadata": {},
   "outputs": [
    {
     "name": "stdout",
     "output_type": "stream",
     "text": [
      "+----------------------+----------+\n",
      "|column_name           |null_count|\n",
      "+----------------------+----------+\n",
      "|seller_id             |0         |\n",
      "|seller_zip_code_prefix|0         |\n",
      "|seller_city           |0         |\n",
      "|seller_state          |0         |\n",
      "+----------------------+----------+\n",
      "\n"
     ]
    }
   ],
   "source": [
    "null_count_report(sellers_df).show(truncate=False)"
   ]
  },
  {
   "cell_type": "code",
   "execution_count": 39,
   "id": "04578ed7-684a-47ca-889a-404e0ad18770",
   "metadata": {},
   "outputs": [
    {
     "name": "stdout",
     "output_type": "stream",
     "text": [
      "+---------+-----+\n",
      "|seller_id|count|\n",
      "+---------+-----+\n",
      "+---------+-----+\n",
      "\n"
     ]
    }
   ],
   "source": [
    "sellers_df.groupBy('seller_id').count().filter('count>1').show()"
   ]
  },
  {
   "cell_type": "markdown",
   "id": "0ffc067f-8ca8-4308-93e0-fe0063daa030",
   "metadata": {},
   "source": [
    "#### geolocation_df"
   ]
  },
  {
   "cell_type": "code",
   "execution_count": 40,
   "id": "d0585280-9a3e-4337-8f54-26ec5326be78",
   "metadata": {},
   "outputs": [
    {
     "name": "stdout",
     "output_type": "stream",
     "text": [
      "root\n",
      " |-- geolocation_zip_code_prefix: integer (nullable = true)\n",
      " |-- geolocation_lat: double (nullable = true)\n",
      " |-- geolocation_lng: double (nullable = true)\n",
      " |-- geolocation_city: string (nullable = true)\n",
      " |-- geolocation_state: string (nullable = true)\n",
      "\n"
     ]
    }
   ],
   "source": [
    "geolocation_df.printSchema()"
   ]
  },
  {
   "cell_type": "code",
   "execution_count": 41,
   "id": "4bcfa73f-5a31-438b-9db3-2987c8ad357c",
   "metadata": {},
   "outputs": [
    {
     "name": "stdout",
     "output_type": "stream",
     "text": [
      "Geolocation : 1000163 rows\n"
     ]
    }
   ],
   "source": [
    "print(f'Geolocation : {geolocation_df.count()} rows')"
   ]
  },
  {
   "cell_type": "code",
   "execution_count": 42,
   "id": "777d6ddf-3a58-44df-9cbb-6d308bb18110",
   "metadata": {},
   "outputs": [
    {
     "name": "stdout",
     "output_type": "stream",
     "text": [
      "+---------------------------+----------+\n",
      "|column_name                |null_count|\n",
      "+---------------------------+----------+\n",
      "|geolocation_zip_code_prefix|0         |\n",
      "|geolocation_lat            |0         |\n",
      "|geolocation_lng            |0         |\n",
      "|geolocation_city           |0         |\n",
      "|geolocation_state          |0         |\n",
      "+---------------------------+----------+\n",
      "\n"
     ]
    }
   ],
   "source": [
    "null_count_report(geolocation_df).show(truncate=False)"
   ]
  },
  {
   "cell_type": "code",
   "execution_count": 43,
   "id": "2dadbe0a-e496-442d-91a3-6fc45bc8c81c",
   "metadata": {},
   "outputs": [
    {
     "name": "stdout",
     "output_type": "stream",
     "text": [
      "+---------------------------+-------------------+-------------------+-----+\n",
      "|geolocation_zip_code_prefix|    geolocation_lat|    geolocation_lng|count|\n",
      "+---------------------------+-------------------+-------------------+-----+\n",
      "|                       1230|-23.538859910352585| -46.65935566916726|    2|\n",
      "|                       1242| -23.54603669248079|-46.659234221622704|    2|\n",
      "|                       1230|-23.539663173466437| -46.65818240022502|    2|\n",
      "|                       1229|-23.540367384124878| -46.65900446502971|    9|\n",
      "|                       1227|-23.554376810721855| -46.66288171619834|    4|\n",
      "|                       1221| -23.54404365889549| -46.64893993450283|    2|\n",
      "|                       1232|-23.539924791563266|-46.661443218708506|    3|\n",
      "|                       1321|-23.564019237578638| -46.64235930489347|    3|\n",
      "|                       1308|-23.556416407149936|-46.652897587569946|    5|\n",
      "|                       1303| -23.54893849570083| -46.65043121524605|    4|\n",
      "|                       1419|-23.567885926851567| -46.65091780265236|    6|\n",
      "|                       1403| -23.56817061642339| -46.65411508728148|    3|\n",
      "|                       1409|-23.556583204830044| -46.65558139454087|    5|\n",
      "|                       1414|-23.565217379133205| -46.66927087232388|    3|\n",
      "|                       1425|-23.572532681660757|-46.660711310721844|    3|\n",
      "|                       1533| -23.56896443825374| -46.63887311518263|    2|\n",
      "|                       1511|-23.562837869553913| -46.63263288732753|    7|\n",
      "|                       1529|-23.569398157366287|-46.636976640025374|    4|\n",
      "|                       2141|-23.490523131282792| -46.57108695974959|    2|\n",
      "|                       2132| -23.50167328336896|-46.577082824311844|    2|\n",
      "+---------------------------+-------------------+-------------------+-----+\n",
      "only showing top 20 rows\n",
      "\n",
      "Total baris duplikat: 280009\n"
     ]
    }
   ],
   "source": [
    "# Cari kombinasi yang duplikat\n",
    "duplicate_count = geolocation_df.groupBy(\n",
    "    'geolocation_zip_code_prefix',\n",
    "    'geolocation_lat',\n",
    "    'geolocation_lng'\n",
    ").count().filter(col('count') > 1)\n",
    "\n",
    "# Tampilkan kombinasi duplikat\n",
    "duplicate_count.show()\n",
    "\n",
    "# Hitung total baris duplikat berlebih\n",
    "dup_rows = duplicate_count.agg(\n",
    "    sum(col('count') - 1).alias('duplicate_rows')\n",
    ").collect()[0]['duplicate_rows']\n",
    "\n",
    "print(f\"Total baris duplikat: {dup_rows}\")"
   ]
  },
  {
   "cell_type": "markdown",
   "id": "95d59fe9-3255-4db1-ab14-49ba27e69a81",
   "metadata": {},
   "source": [
    "#### category_translation_df"
   ]
  },
  {
   "cell_type": "code",
   "execution_count": 44,
   "id": "52980335-dac4-4721-8000-0067e58336c5",
   "metadata": {},
   "outputs": [
    {
     "name": "stdout",
     "output_type": "stream",
     "text": [
      "root\n",
      " |-- product_category_name: string (nullable = true)\n",
      " |-- product_category_name_english: string (nullable = true)\n",
      "\n"
     ]
    }
   ],
   "source": [
    "category_translation_df.printSchema()"
   ]
  },
  {
   "cell_type": "code",
   "execution_count": 45,
   "id": "a43cd734-8ec8-436a-9457-c7a998db0cf6",
   "metadata": {},
   "outputs": [
    {
     "name": "stdout",
     "output_type": "stream",
     "text": [
      "Category_Translation : 71 rows\n"
     ]
    }
   ],
   "source": [
    "print(f'Category_Translation : {category_translation_df.count()} rows')"
   ]
  },
  {
   "cell_type": "code",
   "execution_count": 46,
   "id": "3bec7dbc-899f-45b5-b326-8186d4a91d47",
   "metadata": {},
   "outputs": [
    {
     "name": "stdout",
     "output_type": "stream",
     "text": [
      "+-----------------------------+----------+\n",
      "|column_name                  |null_count|\n",
      "+-----------------------------+----------+\n",
      "|product_category_name        |0         |\n",
      "|product_category_name_english|0         |\n",
      "+-----------------------------+----------+\n",
      "\n"
     ]
    }
   ],
   "source": [
    "null_count_report(category_translation_df).show(truncate=False)"
   ]
  },
  {
   "cell_type": "code",
   "execution_count": 47,
   "id": "cd703498-4995-4ba9-b750-c97febbff90b",
   "metadata": {},
   "outputs": [
    {
     "name": "stdout",
     "output_type": "stream",
     "text": [
      "+---------------------+-----+\n",
      "|product_category_name|count|\n",
      "+---------------------+-----+\n",
      "+---------------------+-----+\n",
      "\n"
     ]
    }
   ],
   "source": [
    "category_translation_df.groupBy('product_category_name').count().filter('count>1').show()"
   ]
  },
  {
   "cell_type": "markdown",
   "id": "8f8fb598-8cf8-4734-bade-555ea2cbc7c0",
   "metadata": {},
   "source": [
    "## Validasi Relasi Antar Tabel"
   ]
  },
  {
   "cell_type": "code",
   "execution_count": 48,
   "id": "457984d7-c50a-492f-a2f7-cda478bdd321",
   "metadata": {},
   "outputs": [
    {
     "name": "stdout",
     "output_type": "stream",
     "text": [
      "Orders without customer: 0\n"
     ]
    }
   ],
   "source": [
    "# Orders must have a valid customer_id\n",
    "invalid_orders = orders_df.join(customers_df, \"customer_id\", \"left_anti\")\n",
    "print(f\"Orders without customer: {invalid_orders.count()}\")"
   ]
  },
  {
   "cell_type": "code",
   "execution_count": 49,
   "id": "bf6cbdca-e6cf-4f4c-9954-fc9557307acd",
   "metadata": {},
   "outputs": [
    {
     "name": "stdout",
     "output_type": "stream",
     "text": [
      "Payments without order: 0\n"
     ]
    }
   ],
   "source": [
    "# Payments harus punya order_id valid\n",
    "invalid_payments = payments_df.join(orders_df, \"order_id\", \"left_anti\")\n",
    "print(f\"Payments without order: {invalid_payments.count()}\")"
   ]
  },
  {
   "cell_type": "code",
   "execution_count": 50,
   "id": "39dfe139-3c9f-4393-aed9-e240f844415e",
   "metadata": {},
   "outputs": [
    {
     "name": "stdout",
     "output_type": "stream",
     "text": [
      "Reviews without order: 0\n"
     ]
    }
   ],
   "source": [
    "# Payments must have a valid order_id\n",
    "invalid_reviews = reviews_df.join(orders_df, \"order_id\", \"left_anti\")\n",
    "print(f\"Reviews without order: {invalid_reviews.count()}\")"
   ]
  },
  {
   "cell_type": "code",
   "execution_count": 51,
   "id": "950d1d19-3c53-4716-903e-6c1a68df5f36",
   "metadata": {},
   "outputs": [
    {
     "name": "stdout",
     "output_type": "stream",
     "text": [
      "Order items without order: 0\n",
      "Order items without product: 0\n",
      "Order items without seller: 0\n"
     ]
    }
   ],
   "source": [
    "# Order_items must have valid order_id, product_id, and seller_id\n",
    "invalid_items_orders = order_items_df.join(orders_df, \"order_id\", \"left_anti\")\n",
    "print(f\"Order items without order: {invalid_items_orders.count()}\")\n",
    "\n",
    "invalid_items_products = order_items_df.join(products_df, \"product_id\", \"left_anti\")\n",
    "print(f\"Order items without product: {invalid_items_products.count()}\")\n",
    "\n",
    "invalid_items_selers = order_items_df.join(sellers_df, \"seller_id\", \"left_anti\")\n",
    "print(f\"Order items without seller: {invalid_items_products.count()}\")"
   ]
  },
  {
   "cell_type": "markdown",
   "id": "66011672-baed-47d4-986f-4d5237dd7d78",
   "metadata": {},
   "source": [
    "## Exploration"
   ]
  },
  {
   "cell_type": "code",
   "execution_count": 52,
   "id": "f1f00720-da9f-4da8-bfd7-8ae648bb69e9",
   "metadata": {},
   "outputs": [
    {
     "name": "stdout",
     "output_type": "stream",
     "text": [
      "+------------------+--------+--------+\n",
      "|          avg_days|min_days|max_days|\n",
      "+------------------+--------+--------+\n",
      "|12.497336125046644|       0|     210|\n",
      "+------------------+--------+--------+\n",
      "\n",
      "+--------------------+------------------------+-----------------------------+-------------+\n",
      "|            order_id|order_purchase_timestamp|order_delivered_customer_date|delivery_days|\n",
      "+--------------------+------------------------+-----------------------------+-------------+\n",
      "|a4efaffc506a395c9...|     2018-01-17 10:50:09|          2018-05-07 19:25:33|          110|\n",
      "|8b7fd198ad184563c...|     2017-11-14 10:04:27|          2018-02-27 18:05:08|          105|\n",
      "|4f39a94d6e474819d...|     2017-04-28 16:28:03|          2017-09-19 13:54:18|          144|\n",
      "|b31c7dea63bb08f8c...|     2017-09-26 18:35:35|          2018-02-05 21:25:43|          132|\n",
      "|3602a80b09d914236...|     2018-01-31 20:38:38|          2018-05-18 11:06:52|          107|\n",
      "+--------------------+------------------------+-----------------------------+-------------+\n",
      "only showing top 5 rows\n",
      "\n"
     ]
    }
   ],
   "source": [
    "# Delivery time\n",
    "from pyspark.sql.functions import datediff\n",
    "\n",
    "delivery_df = orders_df.select(\"order_id\", \"order_purchase_timestamp\", \"order_delivered_customer_date\")\n",
    "delivery_df = delivery_df.withColumn(\"delivery_days\", datediff(col(\"order_delivered_customer_date\"), col(\"order_purchase_timestamp\")))\n",
    "\n",
    "delivery_df.select(\n",
    "    avg(\"delivery_days\").alias(\"avg_days\"),\n",
    "    min(\"delivery_days\").alias(\"min_days\"),\n",
    "    max(\"delivery_days\").alias(\"max_days\")\n",
    ").show()\n",
    "\n",
    "# Order dengan delivery_time sangat tinggi\n",
    "delivery_df.filter(col(\"delivery_days\") > 100).show(5)"
   ]
  },
  {
   "cell_type": "code",
   "execution_count": 53,
   "id": "4bec28cf-79c5-45d6-9dad-e2812d90b214",
   "metadata": {},
   "outputs": [
    {
     "name": "stdout",
     "output_type": "stream",
     "text": [
      "+---------------------+-----+\n",
      "|product_category_name|count|\n",
      "+---------------------+-----+\n",
      "|      cama_mesa_banho| 3029|\n",
      "|        esporte_lazer| 2867|\n",
      "|     moveis_decoracao| 2657|\n",
      "|         beleza_saude| 2444|\n",
      "| utilidades_domest...| 2335|\n",
      "|           automotivo| 1900|\n",
      "| informatica_acess...| 1639|\n",
      "|           brinquedos| 1411|\n",
      "|   relogios_presentes| 1329|\n",
      "|            telefonia| 1134|\n",
      "+---------------------+-----+\n",
      "only showing top 10 rows\n",
      "\n"
     ]
    }
   ],
   "source": [
    "# Distribusi kategori produk\n",
    "products_df.groupBy(\"product_category_name\").count().orderBy(\"count\", ascending=False).show(10)"
   ]
  },
  {
   "cell_type": "code",
   "execution_count": 54,
   "id": "55a2ccbc-2e6b-4885-ba9b-ef8a38d491ca",
   "metadata": {},
   "outputs": [
    {
     "name": "stdout",
     "output_type": "stream",
     "text": [
      "+------------+-----+\n",
      "|seller_state|count|\n",
      "+------------+-----+\n",
      "|          SP| 1849|\n",
      "|          PR|  349|\n",
      "|          MG|  244|\n",
      "|          SC|  190|\n",
      "|          RJ|  171|\n",
      "|          RS|  129|\n",
      "|          GO|   40|\n",
      "|          DF|   30|\n",
      "|          ES|   23|\n",
      "|          BA|   19|\n",
      "+------------+-----+\n",
      "only showing top 10 rows\n",
      "\n"
     ]
    }
   ],
   "source": [
    "# Distribusi seller per state\n",
    "sellers_df.groupBy(\"seller_state\").count().orderBy(\"count\", ascending=False).show(10)"
   ]
  },
  {
   "cell_type": "code",
   "execution_count": 55,
   "id": "742b8cac-e00d-42eb-9bad-6731fa1c5265",
   "metadata": {},
   "outputs": [
    {
     "name": "stdout",
     "output_type": "stream",
     "text": [
      "+--------------------+-----+\n",
      "|            order_id|count|\n",
      "+--------------------+-----+\n",
      "|8272b63d03f5f79c5...|   21|\n",
      "|1b15974a0141d54e3...|   20|\n",
      "|ab14fdcfbe524636d...|   20|\n",
      "|428a2f660dc84138d...|   15|\n",
      "|9ef13efd6949e4573...|   15|\n",
      "|73c8ab38f07dc9438...|   14|\n",
      "|9bdc4d4c71aa1de46...|   14|\n",
      "|37ee401157a3a0b28...|   13|\n",
      "|3a213fcdfe7d98be7...|   12|\n",
      "|af822dacd6f5cff73...|   12|\n",
      "+--------------------+-----+\n",
      "only showing top 10 rows\n",
      "\n"
     ]
    }
   ],
   "source": [
    "# Distribusi jumlah item per order\n",
    "order_items_df.groupBy(\"order_id\").count().orderBy(\"count\", ascending=False).show(10)"
   ]
  },
  {
   "cell_type": "code",
   "execution_count": 56,
   "id": "ddd6ecb8-38de-42b6-8209-26f58bb61a19",
   "metadata": {},
   "outputs": [
    {
     "name": "stdout",
     "output_type": "stream",
     "text": [
      "+--------------+-----+\n",
      "|customer_state|count|\n",
      "+--------------+-----+\n",
      "|            SP|41746|\n",
      "|            RJ|12852|\n",
      "|            MG|11635|\n",
      "|            RS| 5466|\n",
      "|            PR| 5045|\n",
      "|            SC| 3637|\n",
      "|            BA| 3380|\n",
      "|            DF| 2140|\n",
      "|            ES| 2033|\n",
      "|            GO| 2020|\n",
      "|            PE| 1652|\n",
      "|            CE| 1336|\n",
      "|            PA|  975|\n",
      "|            MT|  907|\n",
      "|            MA|  747|\n",
      "|            MS|  715|\n",
      "|            PB|  536|\n",
      "|            PI|  495|\n",
      "|            RN|  485|\n",
      "|            AL|  413|\n",
      "+--------------+-----+\n",
      "only showing top 20 rows\n",
      "\n"
     ]
    }
   ],
   "source": [
    "# Customer Distribution by state\n",
    "customers_df.groupBy('customer_state').count().orderBy('count',ascending=False).show()"
   ]
  },
  {
   "cell_type": "code",
   "execution_count": 57,
   "id": "4a83af74-192e-4bea-9fd9-cae4ec7448da",
   "metadata": {},
   "outputs": [
    {
     "name": "stdout",
     "output_type": "stream",
     "text": [
      "+------------+-----+\n",
      "|order_status|count|\n",
      "+------------+-----+\n",
      "|   delivered|96478|\n",
      "|     shipped| 1107|\n",
      "|    canceled|  625|\n",
      "| unavailable|  609|\n",
      "|    invoiced|  314|\n",
      "|  processing|  301|\n",
      "|     created|    5|\n",
      "|    approved|    2|\n",
      "+------------+-----+\n",
      "\n"
     ]
    }
   ],
   "source": [
    "# Order - Order status distribution\n",
    "orders_df.groupBy('order_status').count().orderBy('count',ascending=False).show()"
   ]
  },
  {
   "cell_type": "code",
   "execution_count": 58,
   "id": "da8d7716-fabc-4736-939c-8711b02be1ed",
   "metadata": {},
   "outputs": [
    {
     "name": "stdout",
     "output_type": "stream",
     "text": [
      "+------------+-----+\n",
      "|payment_type|count|\n",
      "+------------+-----+\n",
      "| credit_card|76795|\n",
      "|      boleto|19784|\n",
      "|     voucher| 5775|\n",
      "|  debit_card| 1529|\n",
      "| not_defined|    3|\n",
      "+------------+-----+\n",
      "\n"
     ]
    }
   ],
   "source": [
    "#payment_type distribution\n",
    "payments_df.groupBy('payment_type').count().orderBy('count',ascending=False).show()"
   ]
  },
  {
   "cell_type": "code",
   "execution_count": 59,
   "id": "12c3db96-c8f4-4ca3-92d1-22cbf9ae9de2",
   "metadata": {},
   "outputs": [
    {
     "name": "stdout",
     "output_type": "stream",
     "text": [
      "+--------------------+------------------+\n",
      "|          product_id|       total_sales|\n",
      "+--------------------+------------------+\n",
      "|bb50f2e236e5eea01...|           63885.0|\n",
      "|6cdd53843498f9289...| 54730.19999999998|\n",
      "|d6160fb7873f18409...|          48899.34|\n",
      "|d1c427060a0f73f6b...| 47214.50999999998|\n",
      "|99a4788cb24856965...|  43025.5599999999|\n",
      "|3dd2a17168ec895c7...| 41082.59999999995|\n",
      "|25c38557cf793876c...| 38907.31999999999|\n",
      "|5f504b3a1c75b73d6...|37733.899999999994|\n",
      "|53b36df67ebb7c415...| 37683.41999999996|\n",
      "|aca2eb7d00ea1a7b8...|37608.899999999914|\n",
      "|e0d64dcfaa3b6db5c...| 31786.81999999999|\n",
      "|d285360f29ac7fd97...|31623.809999999987|\n",
      "|7a10781637204d8d1...| 30467.49999999999|\n",
      "|f1c7f353075ce59d8...|          29997.36|\n",
      "|f819f0c84a64f02d3...|29024.479999999996|\n",
      "|588531f8ec37e7d5f...|28291.989999999998|\n",
      "|422879e10f4668299...|26577.219999999943|\n",
      "|16c4e87b98a9370a9...|           25034.0|\n",
      "|5a848e4ab52fd5445...| 24229.02999999997|\n",
      "|a62e25e09e05e6faf...|           24051.0|\n",
      "+--------------------+------------------+\n",
      "only showing top 20 rows\n",
      "\n"
     ]
    }
   ],
   "source": [
    "#Top selling Products\n",
    "top_products = order_items_df.groupBy('product_id').agg(sum('price').alias('total_sales'))\n",
    "top_products.orderBy('total_sales',ascending=False).show(20)"
   ]
  },
  {
   "cell_type": "code",
   "execution_count": 60,
   "id": "d4d35fb0-e78e-4f1b-92db-8949a95dbafa",
   "metadata": {},
   "outputs": [],
   "source": [
    "from pyspark.sql.functions import col, datediff\n",
    "\n",
    "# Hitung time delta antar tahapan\n",
    "orders_with_delta = orders_df \\\n",
    "    .withColumn(\"delta_purchase_to_approved\",\n",
    "                datediff(col(\"order_approved_at\"), col(\"order_purchase_timestamp\"))) \\\n",
    "    .withColumn(\"delta_approved_to_carrier\",\n",
    "                datediff(col(\"order_delivered_carrier_date\"), col(\"order_approved_at\"))) \\\n",
    "    .withColumn(\"delta_carrier_to_customer\",\n",
    "                datediff(col(\"order_delivered_customer_date\"), col(\"order_delivered_carrier_date\"))) \\\n",
    "    .withColumn(\"delta_purchase_to_customer\",\n",
    "                datediff(col(\"order_delivered_customer_date\"), col(\"order_purchase_timestamp\"))) \\\n",
    "    .withColumn(\"delta_purchase_to_estimated\",\n",
    "                datediff(col(\"order_estimated_delivery_date\"), col(\"order_purchase_timestamp\")))\n"
   ]
  },
  {
   "cell_type": "code",
   "execution_count": 61,
   "id": "64fcd084-aebc-429c-adb1-7a00708eaf9d",
   "metadata": {},
   "outputs": [
    {
     "name": "stdout",
     "output_type": "stream",
     "text": [
      "+--------------------+--------------------------+-------------------------+-------------------------+--------------------------+---------------------------+\n",
      "|            order_id|delta_purchase_to_approved|delta_approved_to_carrier|delta_carrier_to_customer|delta_purchase_to_customer|delta_purchase_to_estimated|\n",
      "+--------------------+--------------------------+-------------------------+-------------------------+--------------------------+---------------------------+\n",
      "|e481f51cbdc54678b...|                         0|                        2|                        6|                         8|                         16|\n",
      "|53cdb2fc8bc7dce0b...|                         2|                        0|                       12|                        14|                         20|\n",
      "|47770eb9100c2d0c4...|                         0|                        0|                        9|                         9|                         27|\n",
      "|949d5b44dbf5de918...|                         0|                        4|                       10|                        14|                         27|\n",
      "|ad21c59c0840e6cb8...|                         0|                        1|                        2|                         3|                         13|\n",
      "|a4591c265e18cb1dc...|                         0|                        2|                       15|                        17|                         23|\n",
      "|136cce7faa42fdb2c...|                         2|                     NULL|                     NULL|                      NULL|                         28|\n",
      "|6514b8ad8028c9f2c...|                         0|                        6|                        4|                        10|                         22|\n",
      "|76c6e866289321a7c...|                         2|                        1|                        7|                        10|                         42|\n",
      "|e69bfb5eb88e0ed6a...|                         0|                       12|                        6|                        18|                         25|\n",
      "+--------------------+--------------------------+-------------------------+-------------------------+--------------------------+---------------------------+\n",
      "only showing top 10 rows\n",
      "\n"
     ]
    }
   ],
   "source": [
    "# Tampilkan contoh\n",
    "orders_with_delta.select(\n",
    "    \"order_id\",\n",
    "    \"delta_purchase_to_approved\",\n",
    "    \"delta_approved_to_carrier\",\n",
    "    \"delta_carrier_to_customer\",\n",
    "    \"delta_purchase_to_customer\",\n",
    "    \"delta_purchase_to_estimated\"\n",
    ").show(10)"
   ]
  },
  {
   "cell_type": "code",
   "execution_count": 62,
   "id": "3b2f19b9-b126-4364-9871-e06e3fb2956b",
   "metadata": {},
   "outputs": [
    {
     "name": "stdout",
     "output_type": "stream",
     "text": [
      "\n",
      "=== delta_purchase_to_approved ===\n",
      "+----------+--------------+\n",
      "|null_count|negative_count|\n",
      "+----------+--------------+\n",
      "|       160|             0|\n",
      "+----------+--------------+\n",
      "\n",
      "\n",
      "=== delta_approved_to_carrier ===\n",
      "+----------+--------------+\n",
      "|null_count|negative_count|\n",
      "+----------+--------------+\n",
      "|      1797|           680|\n",
      "+----------+--------------+\n",
      "\n",
      "\n",
      "=== delta_carrier_to_customer ===\n",
      "+----------+--------------+\n",
      "|null_count|negative_count|\n",
      "+----------+--------------+\n",
      "|      2966|            20|\n",
      "+----------+--------------+\n",
      "\n",
      "\n",
      "=== delta_purchase_to_customer ===\n",
      "+----------+--------------+\n",
      "|null_count|negative_count|\n",
      "+----------+--------------+\n",
      "|      2965|             0|\n",
      "+----------+--------------+\n",
      "\n",
      "\n",
      "=== delta_purchase_to_estimated ===\n",
      "+----------+--------------+\n",
      "|null_count|negative_count|\n",
      "+----------+--------------+\n",
      "|         0|             0|\n",
      "+----------+--------------+\n",
      "\n"
     ]
    }
   ],
   "source": [
    "from pyspark.sql.functions import when, count\n",
    "\n",
    "# Buat daftar kolom delta\n",
    "delta_cols = [\n",
    "    \"delta_purchase_to_approved\",\n",
    "    \"delta_approved_to_carrier\",\n",
    "    \"delta_carrier_to_customer\",\n",
    "    \"delta_purchase_to_customer\",\n",
    "    \"delta_purchase_to_estimated\"\n",
    "]\n",
    "\n",
    "# Cek apakah ada yang NULL atau MINUS\n",
    "for col_name in delta_cols:\n",
    "    print(f\"\\n=== {col_name} ===\")\n",
    "    orders_with_delta.select(\n",
    "        count(when(col(col_name).isNull(), col_name)).alias(\"null_count\"),\n",
    "        count(when(col(col_name) < 0, col_name)).alias(\"negative_count\")\n",
    "    ).show()\n"
   ]
  },
  {
   "cell_type": "markdown",
   "id": "c20db2d5-50f8-4a0a-9322-78284765531c",
   "metadata": {},
   "source": [
    "# Data Cleaning and Transformation"
   ]
  },
  {
   "cell_type": "markdown",
   "id": "4d08c4ed-2126-4e53-b4d7-89cd93de607d",
   "metadata": {},
   "source": [
    "##### Handling Missing Value"
   ]
  },
  {
   "cell_type": "code",
   "execution_count": 63,
   "id": "85669c17-f736-4032-aef3-85c6d68554c9",
   "metadata": {},
   "outputs": [],
   "source": [
    "# Replace Null with ''\n",
    "cols_to_fill = [\"review_comment_title\", \"review_comment_message\"]\n",
    "reviews_cleaned = reviews_df.fillna('', subset=cols_to_fill)"
   ]
  },
  {
   "cell_type": "code",
   "execution_count": 64,
   "id": "53d653ec-048a-477c-8be2-58650aeafe7e",
   "metadata": {},
   "outputs": [
    {
     "name": "stdout",
     "output_type": "stream",
     "text": [
      "+-----------------------+----------+\n",
      "|column_name            |null_count|\n",
      "+-----------------------+----------+\n",
      "|review_id              |0         |\n",
      "|order_id               |0         |\n",
      "|review_score           |0         |\n",
      "|review_comment_title   |0         |\n",
      "|review_comment_message |0         |\n",
      "|review_creation_date   |0         |\n",
      "|review_answer_timestamp|0         |\n",
      "+-----------------------+----------+\n",
      "\n"
     ]
    }
   ],
   "source": [
    "null_count_report(reviews_cleaned).show(truncate=False)"
   ]
  },
  {
   "cell_type": "code",
   "execution_count": 65,
   "id": "6e19a13f-f778-4b51-a8e6-a293e1e1954b",
   "metadata": {},
   "outputs": [],
   "source": [
    "# Calculate the average value per category\n",
    "category_avg = products_df.groupBy(\"product_category_name\").agg(\n",
    "    avg(\"product_weight_g\").alias(\"avg_weight\"),\n",
    "    avg(\"product_length_cm\").alias(\"avg_length\"),\n",
    "    avg(\"product_height_cm\").alias(\"avg_height\"),\n",
    "    avg(\"product_width_cm\").alias(\"avg_width\")\n",
    ")\n",
    "\n",
    "# Calculate the global average for fallback\n",
    "global_avg = products_df.agg(\n",
    "    avg(\"product_weight_g\").alias(\"global_weight\"),\n",
    "    avg(\"product_length_cm\").alias(\"global_length\"),\n",
    "    avg(\"product_height_cm\").alias(\"global_height\"),\n",
    "    avg(\"product_width_cm\").alias(\"global_width\")\n",
    ").collect()[0]"
   ]
  },
  {
   "cell_type": "code",
   "execution_count": 66,
   "id": "ba1a1c67-ecb1-424a-b76d-e3663fc87e81",
   "metadata": {},
   "outputs": [],
   "source": [
    "products_cleaned = (\n",
    "    products_df.alias(\"p\")\n",
    "    .join(category_avg.alias(\"c\"), on=\"product_category_name\", how=\"left\")\n",
    "    .withColumn(\n",
    "        \"product_weight_g\",\n",
    "        when(col(\"p.product_weight_g\").isNull(), col(\"c.avg_weight\"))\n",
    "        .otherwise(col(\"p.product_weight_g\"))\n",
    "    )\n",
    "    .withColumn(\n",
    "        \"product_length_cm\",\n",
    "        when(col(\"p.product_length_cm\").isNull(), col(\"c.avg_length\"))\n",
    "        .otherwise(col(\"p.product_length_cm\"))\n",
    "    )\n",
    "    .withColumn(\n",
    "        \"product_height_cm\",\n",
    "        when(col(\"p.product_height_cm\").isNull(), col(\"c.avg_height\"))\n",
    "        .otherwise(col(\"p.product_height_cm\"))\n",
    "    )\n",
    "    .withColumn(\n",
    "        \"product_width_cm\",\n",
    "        when(col(\"p.product_width_cm\").isNull(), col(\"c.avg_width\"))\n",
    "        .otherwise(col(\"p.product_width_cm\"))\n",
    "    )\n",
    ")"
   ]
  },
  {
   "cell_type": "code",
   "execution_count": 67,
   "id": "54a5f36f-e266-4f9f-8574-3763f4cc0812",
   "metadata": {},
   "outputs": [],
   "source": [
    "products_cleaned = (\n",
    "    products_cleaned\n",
    "    .fillna({\n",
    "        \"product_weight_g\": global_avg[\"global_weight\"],\n",
    "        \"product_length_cm\": global_avg[\"global_length\"],\n",
    "        \"product_height_cm\": global_avg[\"global_height\"],\n",
    "        \"product_width_cm\": global_avg[\"global_width\"]\n",
    "    })\n",
    ")"
   ]
  },
  {
   "cell_type": "code",
   "execution_count": 68,
   "id": "e039bb1f-ef53-4a24-8b0d-606e77de3969",
   "metadata": {},
   "outputs": [
    {
     "name": "stdout",
     "output_type": "stream",
     "text": [
      "+----------------+-----------------+-----------------+----------------+\n",
      "|product_weight_g|product_length_cm|product_height_cm|product_width_cm|\n",
      "+----------------+-----------------+-----------------+----------------+\n",
      "|               0|                0|                0|               0|\n",
      "+----------------+-----------------+-----------------+----------------+\n",
      "\n"
     ]
    }
   ],
   "source": [
    "# cek apakah masih ada null\n",
    "products_cleaned.select(\n",
    "    [col(c).isNull().cast(\"int\").alias(c) for c in [\"product_weight_g\", \"product_length_cm\", \"product_height_cm\", \"product_width_cm\"]]\n",
    ").agg(\n",
    "    *[sum(col(c)).alias(c) for c in [\"product_weight_g\", \"product_length_cm\", \"product_height_cm\", \"product_width_cm\"]]\n",
    ").show()"
   ]
  },
  {
   "cell_type": "markdown",
   "id": "fbcbfe77-59f5-4fe0-8236-8111dff45a3d",
   "metadata": {},
   "source": [
    "##### Remove Duplicate Records"
   ]
  },
  {
   "cell_type": "code",
   "execution_count": 69,
   "id": "971c1986-a092-4d1a-a779-38d89755cd36",
   "metadata": {},
   "outputs": [
    {
     "name": "stdout",
     "output_type": "stream",
     "text": [
      "Number of rows before: 1000163\n",
      "Number of rows after: 720154\n"
     ]
    }
   ],
   "source": [
    "# Drop duplicates based on a combination of 2 columns\n",
    "geolocation_cleaned = geolocation_df.dropDuplicates([\"geolocation_zip_code_prefix\", \"geolocation_lat\",\"geolocation_lng\"])\n",
    "\n",
    "print(f\"Number of rows before: {geolocation_df.count()}\")\n",
    "print(f\"Number of rows after: {geolocation_cleaned.count()}\")"
   ]
  },
  {
   "cell_type": "markdown",
   "id": "f7e5d309-1ddd-4661-8a85-af64e5a462ca",
   "metadata": {},
   "source": [
    "#### Standardizing the format"
   ]
  },
  {
   "cell_type": "code",
   "execution_count": 70,
   "id": "b349e582-cd19-441c-9029-97bda06714f0",
   "metadata": {},
   "outputs": [],
   "source": [
    "# Derive date columns from timestamp for daily aggregation\n",
    "orders_df = (\n",
    "    orders_df\n",
    "    .withColumn(\"order_purchase_date\", to_date(col(\"order_purchase_timestamp\")))\n",
    "    .withColumn(\"order_delivered_date\", to_date(col(\"order_delivered_customer_date\")))\n",
    "    .withColumn(\"order_estimated_delivery_date\", to_date(col(\"order_estimated_delivery_date\")))\n",
    ")"
   ]
  },
  {
   "cell_type": "code",
   "execution_count": 71,
   "id": "76ac75a2-bed6-473d-b2bb-cfe2849e0def",
   "metadata": {},
   "outputs": [
    {
     "name": "stdout",
     "output_type": "stream",
     "text": [
      "root\n",
      " |-- order_id: string (nullable = true)\n",
      " |-- customer_id: string (nullable = true)\n",
      " |-- order_status: string (nullable = true)\n",
      " |-- order_purchase_timestamp: timestamp (nullable = true)\n",
      " |-- order_approved_at: timestamp (nullable = true)\n",
      " |-- order_delivered_carrier_date: timestamp (nullable = true)\n",
      " |-- order_delivered_customer_date: timestamp (nullable = true)\n",
      " |-- order_estimated_delivery_date: date (nullable = true)\n",
      " |-- order_purchase_date: date (nullable = true)\n",
      " |-- order_delivered_date: date (nullable = true)\n",
      "\n"
     ]
    }
   ],
   "source": [
    "orders_df.printSchema()"
   ]
  },
  {
   "cell_type": "code",
   "execution_count": 72,
   "id": "ac41ee59-ccab-4745-a6fd-9b2845f0dda1",
   "metadata": {},
   "outputs": [
    {
     "name": "stdout",
     "output_type": "stream",
     "text": [
      "+------------+\n",
      "|payment_type|\n",
      "+------------+\n",
      "|      boleto|\n",
      "| not_defined|\n",
      "| credit_card|\n",
      "|     voucher|\n",
      "|  debit_card|\n",
      "+------------+\n",
      "\n"
     ]
    }
   ],
   "source": [
    "payments_df.select(\"payment_type\").distinct().show()"
   ]
  },
  {
   "cell_type": "code",
   "execution_count": 73,
   "id": "09de6b8b-5b3c-4dcd-9e0e-36c2fd4f4b4d",
   "metadata": {},
   "outputs": [],
   "source": [
    "payments_cleaned = payments_df. \\\n",
    "    withColumn(\n",
    "        'payment_type',\n",
    "        when(col('payment_type')=='boleto','Bank Transfer')\n",
    "        .when(col('payment_type')=='credit_card','Credit Card')\n",
    "        .when(col('payment_type')=='debit_card','Debit Card')\n",
    "        .otherwise('other')\n",
    "    )"
   ]
  },
  {
   "cell_type": "code",
   "execution_count": 74,
   "id": "0963f707-5ef1-4877-8df0-c367366712a7",
   "metadata": {},
   "outputs": [
    {
     "name": "stdout",
     "output_type": "stream",
     "text": [
      "+-------------+\n",
      "| payment_type|\n",
      "+-------------+\n",
      "|  Credit Card|\n",
      "|Bank Transfer|\n",
      "|        other|\n",
      "|   Debit Card|\n",
      "+-------------+\n",
      "\n"
     ]
    }
   ],
   "source": [
    "payments_cleaned.select(\"payment_type\").distinct().show()"
   ]
  },
  {
   "cell_type": "code",
   "execution_count": 75,
   "id": "f0ac721b-6197-4d88-8387-10a4b9e7bed7",
   "metadata": {},
   "outputs": [
    {
     "name": "stdout",
     "output_type": "stream",
     "text": [
      "root\n",
      " |-- customer_id: string (nullable = true)\n",
      " |-- customer_unique_id: string (nullable = true)\n",
      " |-- customer_zip_code_prefix: integer (nullable = true)\n",
      " |-- customer_city: string (nullable = true)\n",
      " |-- customer_state: string (nullable = true)\n",
      "\n"
     ]
    }
   ],
   "source": [
    "customers_df.printSchema()"
   ]
  },
  {
   "cell_type": "code",
   "execution_count": 76,
   "id": "cba956b9-325b-4730-b33b-ce7305afcd72",
   "metadata": {},
   "outputs": [],
   "source": [
    "#Change data type to string\n",
    "customers_cleaned = customers_df.withColumn(\n",
    "    \"customer_zip_code_prefix\", col(\"customer_zip_code_prefix\").cast(\"string\")\n",
    ")\n",
    "\n",
    "geolocation_cleaned = geolocation_df.withColumn(\n",
    "    \"geolocation_zip_code_prefix\", col(\"geolocation_zip_code_prefix\").cast(\"string\")\n",
    ")\n",
    "\n",
    "seller_cleaned = sellers_df.withColumn(\n",
    "    \"seller_zip_code_prefix\", col(\"seller_zip_code_prefix\").cast(\"string\")\n",
    ")"
   ]
  },
  {
   "cell_type": "markdown",
   "id": "7b6e2b9b-24ea-4ce8-bf78-5ad254182d1e",
   "metadata": {},
   "source": [
    "#### Data Transformation"
   ]
  },
  {
   "cell_type": "code",
   "execution_count": 77,
   "id": "1dee18ee-61c7-4ebf-b1bf-0822a80c19d5",
   "metadata": {},
   "outputs": [],
   "source": [
    "order_with_details = orders_df.join(order_items_df,'order_id','left')\\\n",
    ".join(payments_cleaned,'order_id','left')\\\n",
    ".join(customers_cleaned,'customer_id','left')"
   ]
  },
  {
   "cell_type": "code",
   "execution_count": 78,
   "id": "0c40224d-7f81-403a-bb70-85f32ca24080",
   "metadata": {},
   "outputs": [
    {
     "name": "stdout",
     "output_type": "stream",
     "text": [
      "root\n",
      " |-- customer_id: string (nullable = true)\n",
      " |-- order_id: string (nullable = true)\n",
      " |-- order_status: string (nullable = true)\n",
      " |-- order_purchase_timestamp: timestamp (nullable = true)\n",
      " |-- order_approved_at: timestamp (nullable = true)\n",
      " |-- order_delivered_carrier_date: timestamp (nullable = true)\n",
      " |-- order_delivered_customer_date: timestamp (nullable = true)\n",
      " |-- order_estimated_delivery_date: date (nullable = true)\n",
      " |-- order_purchase_date: date (nullable = true)\n",
      " |-- order_delivered_date: date (nullable = true)\n",
      " |-- order_item_id: integer (nullable = true)\n",
      " |-- product_id: string (nullable = true)\n",
      " |-- seller_id: string (nullable = true)\n",
      " |-- shipping_limit_date: timestamp (nullable = true)\n",
      " |-- price: double (nullable = true)\n",
      " |-- freight_value: double (nullable = true)\n",
      " |-- payment_sequential: integer (nullable = true)\n",
      " |-- payment_type: string (nullable = true)\n",
      " |-- payment_installments: integer (nullable = true)\n",
      " |-- payment_value: double (nullable = true)\n",
      " |-- customer_unique_id: string (nullable = true)\n",
      " |-- customer_zip_code_prefix: string (nullable = true)\n",
      " |-- customer_city: string (nullable = true)\n",
      " |-- customer_state: string (nullable = true)\n",
      "\n"
     ]
    }
   ],
   "source": [
    "order_with_details.printSchema()"
   ]
  },
  {
   "cell_type": "code",
   "execution_count": 79,
   "id": "5f7a3145-a3b5-4a2b-a91e-0f17ce9a9403",
   "metadata": {},
   "outputs": [],
   "source": [
    "order_with_total_value = order_with_details.groupBy('order_id')\\\n",
    ".agg(sum('payment_value').alias('total_order_value'))"
   ]
  },
  {
   "cell_type": "code",
   "execution_count": 80,
   "id": "cf7e519d-11e7-4c0a-8ab1-c8932d9c04c6",
   "metadata": {},
   "outputs": [
    {
     "name": "stdout",
     "output_type": "stream",
     "text": [
      "+--------------------+------------------+\n",
      "|            order_id| total_order_value|\n",
      "+--------------------+------------------+\n",
      "|f373335aac9a659de...|             59.18|\n",
      "|118045506e1c1dda0...|            1802.0|\n",
      "|cc66dee6fbc18bb79...|             136.4|\n",
      "|f44cb69655f8e4d13...|            164.32|\n",
      "|edcc6b79e8394346b...|            162.63|\n",
      "|9f98d6530155e3b38...|            316.76|\n",
      "|5e57ff5e1c008db89...|            348.44|\n",
      "|0957ed870116e596b...|            157.99|\n",
      "|3fa59277573f0fe06...|             91.05|\n",
      "|d5f812041d8fc446c...|             72.29|\n",
      "|24012690fe6562f4a...|            144.29|\n",
      "|85be7c94bcd3f908f...|             72.75|\n",
      "|56ef80c564f6fd57c...|             49.42|\n",
      "|7a70b827ebc6ab85b...|1950.3899999999999|\n",
      "|8e10a1d1a57b6a469...|            254.22|\n",
      "|107478e48c13dc0b3...|             84.24|\n",
      "|949280c70c6d62ec9...|             49.42|\n",
      "|6a276c227b7bb9659...|            197.41|\n",
      "|0fe9c7ad9288ff24b...|             44.24|\n",
      "|03ebfa9712b7dbc70...|             55.78|\n",
      "+--------------------+------------------+\n",
      "only showing top 20 rows\n",
      "\n"
     ]
    }
   ],
   "source": [
    "order_with_total_value.show()"
   ]
  },
  {
   "cell_type": "code",
   "execution_count": 81,
   "id": "1a221ec1-28be-4ce0-9383-e7fc50d5d40a",
   "metadata": {},
   "outputs": [],
   "source": [
    "order_with_total_value = order_with_total_value.withColumn(\n",
    "    \"total_order_value\", round(col(\"total_order_value\"), 2)\n",
    ")"
   ]
  },
  {
   "cell_type": "code",
   "execution_count": 82,
   "id": "d0eda69c-a634-4971-b9ae-4c1dec0c3e82",
   "metadata": {},
   "outputs": [],
   "source": [
    "delivery_time_df = order_with_details \\\n",
    "    .filter(col(\"order_delivered_customer_date\").isNotNull()) \\\n",
    "    .select(\n",
    "        col(\"order_id\"),\n",
    "        col(\"customer_id\"),\n",
    "        col(\"order_purchase_timestamp\"),\n",
    "        col(\"order_delivered_customer_date\"),\n",
    "        col(\"order_estimated_delivery_date\"),\n",
    "        datediff(col(\"order_delivered_customer_date\"), col(\"order_purchase_timestamp\")).alias(\"actual_delivery_days\"),\n",
    "        datediff(col(\"order_delivered_customer_date\"), col(\"order_estimated_delivery_date\")).alias(\"delivery_delay_days\")\n",
    "    )"
   ]
  },
  {
   "cell_type": "code",
   "execution_count": 83,
   "id": "557b3ad8-3a7a-4890-acc5-1b1d00d4aa10",
   "metadata": {},
   "outputs": [
    {
     "name": "stdout",
     "output_type": "stream",
     "text": [
      "+--------------------+--------------------+------------------------+-----------------------------+-----------------------------+--------------------+-------------------+\n",
      "|            order_id|         customer_id|order_purchase_timestamp|order_delivered_customer_date|order_estimated_delivery_date|actual_delivery_days|delivery_delay_days|\n",
      "+--------------------+--------------------+------------------------+-----------------------------+-----------------------------+--------------------+-------------------+\n",
      "|e481f51cbdc54678b...|9ef432eb625129730...|     2017-10-02 10:56:33|          2017-10-10 21:25:13|                   2017-10-18|                   8|                 -8|\n",
      "|e481f51cbdc54678b...|9ef432eb625129730...|     2017-10-02 10:56:33|          2017-10-10 21:25:13|                   2017-10-18|                   8|                 -8|\n",
      "|e481f51cbdc54678b...|9ef432eb625129730...|     2017-10-02 10:56:33|          2017-10-10 21:25:13|                   2017-10-18|                   8|                 -8|\n",
      "|53cdb2fc8bc7dce0b...|b0830fb4747a6c6d2...|     2018-07-24 20:41:37|          2018-08-07 15:27:45|                   2018-08-13|                  14|                 -6|\n",
      "|47770eb9100c2d0c4...|41ce2a54c0b03bf34...|     2018-08-08 08:38:49|          2018-08-17 18:06:29|                   2018-09-04|                   9|                -18|\n",
      "+--------------------+--------------------+------------------------+-----------------------------+-----------------------------+--------------------+-------------------+\n",
      "only showing top 5 rows\n",
      "\n"
     ]
    }
   ],
   "source": [
    "delivery_time_df.show(5)"
   ]
  },
  {
   "cell_type": "code",
   "execution_count": 84,
   "id": "4a7b6543-5978-4bcd-b875-ab758bb04cdb",
   "metadata": {},
   "outputs": [
    {
     "name": "stdout",
     "output_type": "stream",
     "text": [
      "+-------+------------------+\n",
      "|summary|             price|\n",
      "+-------+------------------+\n",
      "|  count|            112650|\n",
      "|   mean|120.65373901464986|\n",
      "| stddev|183.63392805025975|\n",
      "|    min|              0.85|\n",
      "|    25%|              39.9|\n",
      "|    50%|             74.99|\n",
      "|    75%|             134.9|\n",
      "|    max|            6735.0|\n",
      "+-------+------------------+\n",
      "\n"
     ]
    }
   ],
   "source": [
    "order_items_df.select('price').summary().show()"
   ]
  },
  {
   "cell_type": "code",
   "execution_count": 85,
   "id": "eb58a2fd-a838-435c-b94a-9e70f285a5d3",
   "metadata": {},
   "outputs": [],
   "source": [
    "products_cleaned = products_cleaned.withColumn(\n",
    "'product_size_category',\n",
    "when(col('product_weight_g') <500,'Small')\n",
    ".when(col('product_weight_g').between(500,2000),'Medium')\n",
    ".otherwise('Large')\n",
    ")"
   ]
  },
  {
   "cell_type": "code",
   "execution_count": 86,
   "id": "acd96de8-baeb-419b-a860-3c88be82f50c",
   "metadata": {},
   "outputs": [
    {
     "name": "stdout",
     "output_type": "stream",
     "text": [
      "+---------------------+--------------------+-------------------+--------------------------+------------------+----------------+-----------------+-----------------+----------------+------------------+------------------+------------------+------------------+---------------------+\n",
      "|product_category_name|          product_id|product_name_lenght|product_description_lenght|product_photos_qty|product_weight_g|product_length_cm|product_height_cm|product_width_cm|        avg_weight|        avg_length|        avg_height|         avg_width|product_size_category|\n",
      "+---------------------+--------------------+-------------------+--------------------------+------------------+----------------+-----------------+-----------------+----------------+------------------+------------------+------------------+------------------+---------------------+\n",
      "|           perfumaria|1e9e8ef04dbcff454...|                 40|                       287|                 1|           225.0|             16.0|             10.0|            14.0| 529.2569124423964|20.322580645161292|13.059907834101383|16.668202764976957|                Small|\n",
      "|                artes|3aa071139cb16b67c...|                 44|                       276|                 1|          1000.0|             30.0|             18.0|            20.0|1691.7636363636364| 35.92727272727273|              11.8|23.363636363636363|               Medium|\n",
      "|        esporte_lazer|96bd76ec8810374ed...|                 46|                       250|                 1|           154.0|             18.0|              9.0|            15.0|2024.6707359609347|31.280083711196372|18.109870945238924| 20.82420648761772|                Small|\n",
      "|                bebes|cef67bcfe19066a93...|                 27|                       261|                 1|           371.0|             26.0|              4.0|            26.0|3655.2015250544664| 37.14705882352941| 21.61764705882353| 28.71786492374728|                Small|\n",
      "| utilidades_domest...|9dc1a7de274444849...|                 37|                       402|                 4|           625.0|             20.0|             17.0|            13.0| 3020.793576017131|31.859957173447537|22.337901498929337|24.821413276231265|               Medium|\n",
      "| instrumentos_musi...|41d3672d4792049fa...|                 60|                       745|                 1|           200.0|             38.0|              5.0|            11.0| 3361.038062283737| 36.27681660899654| 16.85467128027682|29.844290657439448|                Small|\n",
      "|           cool_stuff|732bd381ad09e530f...|                 56|                      1272|                 4|         18350.0|             70.0|             24.0|            44.0| 2566.579214195184|33.752851711026615|22.988593155893536|24.491761723700886|                Large|\n",
      "|     moveis_decoracao|2548af3e6e77a690c...|                 56|                       184|                 2|           900.0|             40.0|              8.0|            40.0|3008.2668423033497| 43.89499435453519|17.438088069251034|28.663153933007152|               Medium|\n",
      "|     eletrodomesticos|37cc742be07708b53...|                 57|                       163|                 1|           400.0|             27.0|             13.0|            17.0| 1979.654054054054|29.805405405405406|14.891891891891891| 21.85945945945946|                Small|\n",
      "|           brinquedos|8c92109888e8cdf9d...|                 36|                      1156|                 1|           600.0|             17.0|             10.0|            12.0|1869.3564847625798| 31.75478384124734| 20.72289156626506|24.926293408929837|               Medium|\n",
      "|      cama_mesa_banho|14aa47b7fe5c25522...|                 54|                       630|                 1|          1100.0|             16.0|             10.0|            16.0|   2456.4050841862|36.774182898646416|14.091119181247937|30.589963684384283|               Medium|\n",
      "|                bebes|03b63c5fc16691530...|                 49|                       728|                 4|          7150.0|             50.0|             19.0|            45.0|3655.2015250544664| 37.14705882352941| 21.61764705882353| 28.71786492374728|                Large|\n",
      "| instrumentos_musi...|cf55509ea8edaaac1...|                 43|                      1827|                 3|           250.0|             17.0|              7.0|            17.0| 3361.038062283737| 36.27681660899654| 16.85467128027682|29.844290657439448|                Small|\n",
      "|     moveis_decoracao|7bb6f29c2be577161...|                 51|                      2083|                 2|           600.0|             68.0|             11.0|            13.0|3008.2668423033497| 43.89499435453519|17.438088069251034|28.663153933007152|               Medium|\n",
      "| construcao_ferram...|eb31436580a610f20...|                 59|                      1602|                 4|           200.0|             17.0|              7.0|            17.0| 950.7692307692307|23.065934065934066|              15.0| 18.98901098901099|                Small|\n",
      "|        esporte_lazer|3bb7f144022e67327...|                 22|                      3021|                 1|           800.0|             16.0|              2.0|            11.0|2024.6707359609347|31.280083711196372|18.109870945238924| 20.82420648761772|               Medium|\n",
      "|           perfumaria|6a2fb4dd53d2cdb88...|                 39|                       346|                 2|           400.0|             27.0|              5.0|            20.0| 529.2569124423964|20.322580645161292|13.059907834101383|16.668202764976957|                Small|\n",
      "| informatica_acess...|a1b71017a84f92fd8...|                 59|                       636|                 1|           900.0|             40.0|             15.0|            20.0| 898.3776693105552|25.039658328248933|12.461256863941427|18.143380109823063|               Medium|\n",
      "|     moveis_decoracao|a0736b92e52f6cead...|                 56|                       296|                 2|          1700.0|            100.0|              7.0|            15.0|3008.2668423033497| 43.89499435453519|17.438088069251034|28.663153933007152|               Medium|\n",
      "|      cama_mesa_banho|f53103a77d9cf245e...|                 52|                       206|                 1|           500.0|             16.0|             10.0|            16.0|   2456.4050841862|36.774182898646416|14.091119181247937|30.589963684384283|               Medium|\n",
      "+---------------------+--------------------+-------------------+--------------------------+------------------+----------------+-----------------+-----------------+----------------+------------------+------------------+------------------+------------------+---------------------+\n",
      "only showing top 20 rows\n",
      "\n"
     ]
    }
   ],
   "source": [
    "products_cleaned.show()"
   ]
  },
  {
   "cell_type": "code",
   "execution_count": 87,
   "id": "893bba4d-6dfa-4fd7-924e-6e45d8ba5de2",
   "metadata": {},
   "outputs": [],
   "source": [
    "# !hdfs dfs -mkdir /user/winardi/data/olist_proc/"
   ]
  },
  {
   "cell_type": "code",
   "execution_count": 88,
   "id": "48ea32cc-5f64-40fc-b701-d609c67c4827",
   "metadata": {},
   "outputs": [
    {
     "name": "stdout",
     "output_type": "stream",
     "text": [
      "Deleted /user/winardi/data/olist_proc/order_with_details.parquet\n",
      "Deleted /user/winardi/data/olist_proc/product_cleaned.parquet\n",
      "Deleted /user/winardi/data/olist_proc/geolocation_cleaned.parquet\n",
      "Deleted /user/winardi/data/olist_proc/reviews_cleaned.parquet\n"
     ]
    }
   ],
   "source": [
    "!hdfs dfs -rm -r /user/winardi/data/olist_proc/order_with_details.parquet\n",
    "!hdfs dfs -rm -r /user/winardi/data/olist_proc/product_cleaned.parquet\n",
    "!hdfs dfs -rm -r /user/winardi/data/olist_proc/geolocation_cleaned.parquet\n",
    "!hdfs dfs -rm -r /user/winardi/data/olist_proc/reviews_cleaned.parquet"
   ]
  },
  {
   "cell_type": "code",
   "execution_count": 89,
   "id": "5a6f386c-183b-4586-b13b-95c9f325e577",
   "metadata": {},
   "outputs": [
    {
     "name": "stdout",
     "output_type": "stream",
     "text": [
      "Deleted /user/winardi/data/olist_proc/customers_cleaned.parquet\n",
      "Deleted /user/winardi/data/olist_proc/orders_cleaned.parquet\n",
      "Deleted /user/winardi/data/olist_proc/order_items_cleaned.parquet\n",
      "Deleted /user/winardi/data/olist_proc/sellers_cleaned.parquet\n",
      "Deleted /user/winardi/data/olist_proc/category_translation_cleaned.parquet\n",
      "Deleted /user/winardi/data/olist_proc/payments_cleaned.parquet\n"
     ]
    }
   ],
   "source": [
    "!hdfs dfs -rm -r /user/winardi/data/olist_proc/customers_cleaned.parquet\n",
    "!hdfs dfs -rm -r /user/winardi/data/olist_proc/orders_cleaned.parquet\n",
    "!hdfs dfs -rm -r /user/winardi/data/olist_proc/order_items_cleaned.parquet\n",
    "!hdfs dfs -rm -r /user/winardi/data/olist_proc/sellers_cleaned.parquet\n",
    "!hdfs dfs -rm -r /user/winardi/data/olist_proc/category_translation_cleaned.parquet\n",
    "!hdfs dfs -rm -r /user/winardi/data/olist_proc/payments_cleaned.parquet"
   ]
  },
  {
   "cell_type": "code",
   "execution_count": 90,
   "id": "8a11ccdd-a168-419e-a2d0-fed411f58478",
   "metadata": {},
   "outputs": [],
   "source": [
    "customers_df.write.mode('overwrite').parquet('hdfs://localhost:9000/user/winardi/data/olist_proc/customers_cleaned.parquet')\n",
    "orders_df.write.mode('overwrite').parquet('hdfs://localhost:9000/user/winardi/data/olist_proc/orders_cleaned.parquet')\n",
    "order_items_df.write.mode('overwrite').parquet('hdfs://localhost:9000/user/winardi/data/olist_proc/order_items_cleaned.parquet')\n",
    "seller_cleaned.write.mode('overwrite').parquet('hdfs://localhost:9000/user/winardi/data/olist_proc/sellers_cleaned.parquet')\n",
    "category_translation_df.write.mode('overwrite').parquet('hdfs://localhost:9000/user/winardi/data/olist_proc/category_translation_cleaned.parquet')"
   ]
  },
  {
   "cell_type": "code",
   "execution_count": 91,
   "id": "947bc9e4-3686-4df7-a404-1893cec617d8",
   "metadata": {},
   "outputs": [],
   "source": [
    "order_with_details.write.mode('overwrite').parquet('hdfs://localhost:9000/user/winardi/data/olist_proc/order_with_details.parquet')"
   ]
  },
  {
   "cell_type": "code",
   "execution_count": 92,
   "id": "ade47370-24a2-49d4-b13f-6dd5856f6bd5",
   "metadata": {},
   "outputs": [],
   "source": [
    "products_cleaned.write.mode('overwrite').parquet('hdfs://localhost:9000/user/winardi/data/olist_proc/product_cleaned.parquet')"
   ]
  },
  {
   "cell_type": "code",
   "execution_count": 93,
   "id": "11c81139-93e4-4651-a15e-4b5aac97d63b",
   "metadata": {},
   "outputs": [],
   "source": [
    "geolocation_cleaned.write.mode('overwrite').parquet('hdfs://localhost:9000/user/winardi/data/olist_proc/geolocation_cleaned.parquet')"
   ]
  },
  {
   "cell_type": "code",
   "execution_count": 94,
   "id": "af15de0a-1cb4-4f34-9623-9cd0089278bf",
   "metadata": {},
   "outputs": [],
   "source": [
    "reviews_cleaned.write.mode('overwrite').parquet('hdfs://localhost:9000/user/winardi/data/olist_proc/reviews_cleaned.parquet')"
   ]
  },
  {
   "cell_type": "code",
   "execution_count": 95,
   "id": "97d6667f-2bfa-45dd-9b0e-b4214a395f46",
   "metadata": {},
   "outputs": [],
   "source": [
    "payments_cleaned.write.mode('overwrite').parquet('hdfs://localhost:9000/user/winardi/data/olist_proc/payments_cleaned.parquet')"
   ]
  },
  {
   "cell_type": "markdown",
   "id": "9fe19b3b-4360-47e1-81f7-473c6e24a06d",
   "metadata": {},
   "source": [
    "# Data Integration and Aggregation"
   ]
  },
  {
   "cell_type": "code",
   "execution_count": 96,
   "id": "420d5469-e3cb-4e9e-8265-a1dedef1a33a",
   "metadata": {},
   "outputs": [],
   "source": [
    "cleaned_path = 'hdfs://localhost:9000/user/winardi/data/olist_proc/'"
   ]
  },
  {
   "cell_type": "code",
   "execution_count": 97,
   "id": "48b2c3c6-c3e2-4710-b31d-009b683802df",
   "metadata": {},
   "outputs": [],
   "source": [
    "order_with_detail_df = spark.read.parquet(cleaned_path + 'order_with_details.parquet')\n",
    "customers_cleaned = spark.read.parquet(cleaned_path + 'customers_cleaned.parquet')\n",
    "orders_cleaned = spark.read.parquet(cleaned_path + 'orders_cleaned.parquet')\n",
    "order_items_cleaned = spark.read.parquet(cleaned_path + 'order_items_cleaned.parquet')\n",
    "sellers_cleaned = spark.read.parquet(cleaned_path + 'sellers_cleaned.parquet')\n",
    "category_translation_cleaned = spark.read.parquet(cleaned_path + 'category_translation_cleaned.parquet')\n",
    "payments_cleaned = spark.read.parquet(cleaned_path + 'payments_cleaned.parquet')\n",
    "products_cleaned = spark.read.parquet(cleaned_path + 'product_cleaned.parquet')\n",
    "reviews_cleaned = spark.read.parquet(cleaned_path + 'reviews_cleaned.parquet')\n",
    "geolocation_cleaned = spark.read.parquet(cleaned_path + 'geolocation_cleaned.parquet')"
   ]
  },
  {
   "cell_type": "code",
   "execution_count": 98,
   "id": "0e395db3-0246-46d8-aec0-60286aa32b2f",
   "metadata": {},
   "outputs": [],
   "source": [
    "orders_items_products_df = order_with_detail_df.join(products_cleaned,'product_id','inner')"
   ]
  },
  {
   "cell_type": "code",
   "execution_count": 99,
   "id": "4f0637cb-5a7a-432e-beb4-fa8baf0d4517",
   "metadata": {},
   "outputs": [],
   "source": [
    "orders_items_products_sellers_df = orders_items_products_df.join(sellers_cleaned,'seller_id','inner')"
   ]
  },
  {
   "cell_type": "code",
   "execution_count": 100,
   "id": "a4037c0c-0a60-43eb-af37-2345b8ded949",
   "metadata": {},
   "outputs": [],
   "source": [
    "full_orders_df = orders_items_products_sellers_df.join(reviews_cleaned,'order_id','left')"
   ]
  },
  {
   "cell_type": "code",
   "execution_count": 101,
   "id": "91018558-3224-4898-843c-5a23dde989f8",
   "metadata": {},
   "outputs": [],
   "source": [
    "# GEolocation Data\n",
    "full_orders_df = full_orders_df.join(geolocation_cleaned,full_orders_df.customer_zip_code_prefix == geolocation_cleaned.geolocation_zip_code_prefix, 'left')"
   ]
  },
  {
   "cell_type": "code",
   "execution_count": 102,
   "id": "53d3ee1d-ca55-4548-a9e1-90f14d1251eb",
   "metadata": {},
   "outputs": [],
   "source": [
    "## product_category_name\n",
    "full_orders_df = full_orders_df.join(category_translation_cleaned, 'product_category_name', 'left')\n",
    "full_orders_df = full_orders_df.drop('product_category_name')\n",
    "full_orders_df = full_orders_df.withColumnRenamed('product_category_name_english', 'product_category_name')"
   ]
  },
  {
   "cell_type": "code",
   "execution_count": 103,
   "id": "da966286-c0f7-4934-9643-86e9a7b827d5",
   "metadata": {},
   "outputs": [
    {
     "data": {
      "text/plain": [
       "DataFrame[order_id: string, seller_id: string, product_id: string, customer_id: string, order_status: string, order_purchase_timestamp: timestamp, order_approved_at: timestamp, order_delivered_carrier_date: timestamp, order_delivered_customer_date: timestamp, order_estimated_delivery_date: date, order_purchase_date: date, order_delivered_date: date, order_item_id: int, shipping_limit_date: timestamp, price: double, freight_value: double, payment_sequential: int, payment_type: string, payment_installments: int, payment_value: double, customer_unique_id: string, customer_zip_code_prefix: string, customer_city: string, customer_state: string, product_name_lenght: int, product_description_lenght: int, product_photos_qty: int, product_weight_g: double, product_length_cm: double, product_height_cm: double, product_width_cm: double, avg_weight: double, avg_length: double, avg_height: double, avg_width: double, product_size_category: string, seller_zip_code_prefix: string, seller_city: string, seller_state: string, review_id: string, review_score: int, review_comment_title: string, review_comment_message: string, review_creation_date: timestamp, review_answer_timestamp: timestamp, geolocation_zip_code_prefix: string, geolocation_lat: double, geolocation_lng: double, geolocation_city: string, geolocation_state: string, product_category_name: string]"
      ]
     },
     "execution_count": 103,
     "metadata": {},
     "output_type": "execute_result"
    }
   ],
   "source": [
    "full_orders_df.cache()"
   ]
  },
  {
   "cell_type": "code",
   "execution_count": 104,
   "id": "1b3aa602-a6b1-41aa-ab5c-5993d65269ef",
   "metadata": {},
   "outputs": [
    {
     "name": "stdout",
     "output_type": "stream",
     "text": [
      "root\n",
      " |-- order_id: string (nullable = true)\n",
      " |-- seller_id: string (nullable = true)\n",
      " |-- product_id: string (nullable = true)\n",
      " |-- customer_id: string (nullable = true)\n",
      " |-- order_status: string (nullable = true)\n",
      " |-- order_purchase_timestamp: timestamp (nullable = true)\n",
      " |-- order_approved_at: timestamp (nullable = true)\n",
      " |-- order_delivered_carrier_date: timestamp (nullable = true)\n",
      " |-- order_delivered_customer_date: timestamp (nullable = true)\n",
      " |-- order_estimated_delivery_date: date (nullable = true)\n",
      " |-- order_purchase_date: date (nullable = true)\n",
      " |-- order_delivered_date: date (nullable = true)\n",
      " |-- order_item_id: integer (nullable = true)\n",
      " |-- shipping_limit_date: timestamp (nullable = true)\n",
      " |-- price: double (nullable = true)\n",
      " |-- freight_value: double (nullable = true)\n",
      " |-- payment_sequential: integer (nullable = true)\n",
      " |-- payment_type: string (nullable = true)\n",
      " |-- payment_installments: integer (nullable = true)\n",
      " |-- payment_value: double (nullable = true)\n",
      " |-- customer_unique_id: string (nullable = true)\n",
      " |-- customer_zip_code_prefix: string (nullable = true)\n",
      " |-- customer_city: string (nullable = true)\n",
      " |-- customer_state: string (nullable = true)\n",
      " |-- product_name_lenght: integer (nullable = true)\n",
      " |-- product_description_lenght: integer (nullable = true)\n",
      " |-- product_photos_qty: integer (nullable = true)\n",
      " |-- product_weight_g: double (nullable = true)\n",
      " |-- product_length_cm: double (nullable = true)\n",
      " |-- product_height_cm: double (nullable = true)\n",
      " |-- product_width_cm: double (nullable = true)\n",
      " |-- avg_weight: double (nullable = true)\n",
      " |-- avg_length: double (nullable = true)\n",
      " |-- avg_height: double (nullable = true)\n",
      " |-- avg_width: double (nullable = true)\n",
      " |-- product_size_category: string (nullable = true)\n",
      " |-- seller_zip_code_prefix: string (nullable = true)\n",
      " |-- seller_city: string (nullable = true)\n",
      " |-- seller_state: string (nullable = true)\n",
      " |-- review_id: string (nullable = true)\n",
      " |-- review_score: integer (nullable = true)\n",
      " |-- review_comment_title: string (nullable = true)\n",
      " |-- review_comment_message: string (nullable = true)\n",
      " |-- review_creation_date: timestamp (nullable = true)\n",
      " |-- review_answer_timestamp: timestamp (nullable = true)\n",
      " |-- geolocation_zip_code_prefix: string (nullable = true)\n",
      " |-- geolocation_lat: double (nullable = true)\n",
      " |-- geolocation_lng: double (nullable = true)\n",
      " |-- geolocation_city: string (nullable = true)\n",
      " |-- geolocation_state: string (nullable = true)\n",
      " |-- product_category_name: string (nullable = true)\n",
      "\n"
     ]
    }
   ],
   "source": [
    "full_orders_df.printSchema()"
   ]
  },
  {
   "cell_type": "code",
   "execution_count": 105,
   "id": "975d64bb-f4c2-49f7-a2b8-cc556bb4af22",
   "metadata": {},
   "outputs": [],
   "source": [
    "# Total Revenues Per Seller\n",
    "seller_revenue_df = full_orders_df.groupBy('seller_id').agg(sum('price').alias('amount'))"
   ]
  },
  {
   "cell_type": "code",
   "execution_count": 106,
   "id": "56ac2b56-87b3-4969-a58e-6335e87bf4df",
   "metadata": {},
   "outputs": [
    {
     "name": "stdout",
     "output_type": "stream",
     "text": [
      "root\n",
      " |-- seller_id: string (nullable = true)\n",
      " |-- amount: double (nullable = true)\n",
      "\n"
     ]
    }
   ],
   "source": [
    "seller_revenue_df.printSchema()"
   ]
  },
  {
   "cell_type": "code",
   "execution_count": 107,
   "id": "bd5b94eb-42f3-46bf-88c7-bc3a0ffb4999",
   "metadata": {},
   "outputs": [
    {
     "name": "stdout",
     "output_type": "stream",
     "text": [
      "+--------------------+------------------+\n",
      "|           seller_id|            amount|\n",
      "+--------------------+------------------+\n",
      "|8e6cc767478edae94...| 1145757.400000001|\n",
      "|ec8879960bd2221d5...| 732805.4000000019|\n",
      "|7aa4334be125fcdd2...|2509294.4899999965|\n",
      "|71039d19d4303bf90...| 579490.4999999986|\n",
      "|ef0ace09169ac0905...| 2261367.700000003|\n",
      "+--------------------+------------------+\n",
      "only showing top 5 rows\n",
      "\n"
     ]
    }
   ],
   "source": [
    "seller_revenue_df.show(5)"
   ]
  },
  {
   "cell_type": "code",
   "execution_count": 108,
   "id": "0fd79afc-c2d3-4198-b199-37bcb00289d0",
   "metadata": {},
   "outputs": [],
   "source": [
    "seller_revenue_df = seller_revenue_df.withColumn(\n",
    "    \"amount\", round(col(\"amount\"), 2)\n",
    ")"
   ]
  },
  {
   "cell_type": "code",
   "execution_count": 109,
   "id": "35d48036-0add-4d24-ba45-d21eb458f953",
   "metadata": {},
   "outputs": [
    {
     "name": "stdout",
     "output_type": "stream",
     "text": [
      "+--------------------+----------+\n",
      "|           seller_id|    amount|\n",
      "+--------------------+----------+\n",
      "|8e6cc767478edae94...| 1145757.4|\n",
      "|ec8879960bd2221d5...|  732805.4|\n",
      "|7aa4334be125fcdd2...|2509294.49|\n",
      "|71039d19d4303bf90...|  579490.5|\n",
      "|ef0ace09169ac0905...| 2261367.7|\n",
      "+--------------------+----------+\n",
      "only showing top 5 rows\n",
      "\n"
     ]
    }
   ],
   "source": [
    "seller_revenue_df.show(5)"
   ]
  },
  {
   "cell_type": "code",
   "execution_count": 110,
   "id": "29b2de3e-7f9f-48e2-82d1-b5c37121a996",
   "metadata": {},
   "outputs": [],
   "source": [
    "# Total Orders Per Custoemr\n",
    "customer_order_count = full_orders_df.groupBy('customer_id')\\\n",
    ".agg(count('order_id').alias('total_orders'))\\\n",
    ".orderBy(desc('total_orders'))"
   ]
  },
  {
   "cell_type": "code",
   "execution_count": 111,
   "id": "84142184-8d2c-4e81-ae69-ff0cd953f542",
   "metadata": {},
   "outputs": [
    {
     "name": "stdout",
     "output_type": "stream",
     "text": [
      "+--------------------+------------+\n",
      "|         customer_id|total_orders|\n",
      "+--------------------+------------+\n",
      "|351e40989da90e704...|       11427|\n",
      "|50920f8cd0681fd86...|       10752|\n",
      "|9b43e2a62de9bab3a...|        8556|\n",
      "|270c23a11d024a44c...|        8001|\n",
      "|5c87184371002d49e...|        6876|\n",
      "|d3e82ccec3cb5f956...|        6876|\n",
      "|d5f2b3f597c7ccafb...|        6706|\n",
      "|c2f18647725395af4...|        6612|\n",
      "|24e7dc2ff8c071263...|        6597|\n",
      "|7bb57d182bdc11653...|        6258|\n",
      "+--------------------+------------+\n",
      "only showing top 10 rows\n",
      "\n"
     ]
    }
   ],
   "source": [
    "customer_order_count.show(10)"
   ]
  },
  {
   "cell_type": "code",
   "execution_count": 112,
   "id": "6935b5ab-ce31-4c93-889f-79adb7a8ed7d",
   "metadata": {},
   "outputs": [],
   "source": [
    "# Average Review Score Per Seller\n",
    "agg_seller_review_score = full_orders_df.groupBy('seller_id')\\\n",
    ".agg(avg('review_score').alias('seller_review_score'))\\\n",
    ".orderBy(desc('seller_review_score'))"
   ]
  },
  {
   "cell_type": "code",
   "execution_count": 113,
   "id": "0ef38078-5055-495f-a936-15c7cd5ccadc",
   "metadata": {},
   "outputs": [
    {
     "name": "stdout",
     "output_type": "stream",
     "text": [
      "+--------------------+-------------------+\n",
      "|           seller_id|seller_review_score|\n",
      "+--------------------+-------------------+\n",
      "|5721089ba9214e800...|                5.0|\n",
      "|4049512728d969bec...|                5.0|\n",
      "|41e0fa5761c886a63...|                5.0|\n",
      "|5d505d2298ad549e4...|                5.0|\n",
      "|a20d8058c866dbaec...|                5.0|\n",
      "|7dc9a3355bae96dd8...|                5.0|\n",
      "|0b46f784306be7200...|                5.0|\n",
      "|f8f35af4634605e66...|                5.0|\n",
      "|cd233f8bfa30ebfd6...|                5.0|\n",
      "|83d458c0d6d4f9429...|                5.0|\n",
      "+--------------------+-------------------+\n",
      "only showing top 10 rows\n",
      "\n"
     ]
    }
   ],
   "source": [
    "agg_seller_review_score.show(10)"
   ]
  },
  {
   "cell_type": "code",
   "execution_count": 114,
   "id": "0afc2217-00a9-4930-a2b6-fc120d5a7809",
   "metadata": {},
   "outputs": [],
   "source": [
    "# Most Sold Products ( Top 10 )\n",
    "top_products_df = full_orders_df.groupBy(\"product_id\")\\\n",
    "    .agg(count(\"order_id\").alias(\"total_sold\"))\\\n",
    "    .orderBy(desc(\"total_sold\"))\\\n",
    "    .limit(10)   "
   ]
  },
  {
   "cell_type": "code",
   "execution_count": 115,
   "id": "61d2e3eb-df7a-4277-832e-7d92983ceb83",
   "metadata": {},
   "outputs": [
    {
     "name": "stdout",
     "output_type": "stream",
     "text": [
      "+--------------------+----------+\n",
      "|          product_id|total_sold|\n",
      "+--------------------+----------+\n",
      "|aca2eb7d00ea1a7b8...|     86740|\n",
      "|422879e10f4668299...|     81110|\n",
      "|99a4788cb24856965...|     78775|\n",
      "|389d119b48cf3043d...|     60248|\n",
      "|d1c427060a0f73f6b...|     59274|\n",
      "|368c6c730842d7801...|     58358|\n",
      "|53759a2ecddad2bb8...|     52654|\n",
      "|53b36df67ebb7c415...|     52105|\n",
      "|154e7e31ebfa09220...|     42700|\n",
      "|3dd2a17168ec895c7...|     40787|\n",
      "+--------------------+----------+\n",
      "\n"
     ]
    }
   ],
   "source": [
    "top_products_df.show()"
   ]
  },
  {
   "cell_type": "code",
   "execution_count": 116,
   "id": "69d4673a-2aaa-4545-8ec5-01f320f14205",
   "metadata": {},
   "outputs": [],
   "source": [
    "# Top Customers By Spending\n",
    "top_customers_spending = full_orders_df.groupBy('customer_id')\\\n",
    ".agg(sum('price').alias('customers_spending'))\\\n",
    ".orderBy(desc('customers_spending'))"
   ]
  },
  {
   "cell_type": "code",
   "execution_count": 117,
   "id": "b288fa3a-d04c-47b3-9c39-be85fe3144ed",
   "metadata": {},
   "outputs": [
    {
     "name": "stdout",
     "output_type": "stream",
     "text": [
      "+--------------------+------------------+\n",
      "|         customer_id|customers_spending|\n",
      "+--------------------+------------------+\n",
      "|d3e82ccec3cb5f956...|         6662844.0|\n",
      "|df55c14d1476a9a34...|         3565657.0|\n",
      "|fe5113a38e3575c04...|         3293604.0|\n",
      "|ec5b2ba62e5743423...|         2556120.0|\n",
      "|63b964e79dee32a35...|         2501664.0|\n",
      "|46bb3c0b1a65c8399...|         2336752.0|\n",
      "|05455dfa7cd02f13d...| 2160194.400000087|\n",
      "|3690e975641f01bd0...|         2124498.0|\n",
      "|349509b216bd5ec11...|         1923627.0|\n",
      "|695476b5848d64ba0...|1820543.1299999943|\n",
      "+--------------------+------------------+\n",
      "only showing top 10 rows\n",
      "\n"
     ]
    }
   ],
   "source": [
    "top_customers_spending.show(10)"
   ]
  },
  {
   "cell_type": "code",
   "execution_count": 118,
   "id": "082a781a-ff41-40fd-8077-821b8083c035",
   "metadata": {},
   "outputs": [],
   "source": [
    "top_customers_spending = top_customers_spending.withColumn(\n",
    "    \"customers_spending\", round(col(\"customers_spending\"), 2)\n",
    ")"
   ]
  },
  {
   "cell_type": "markdown",
   "id": "c2d16aaa-c3e6-4093-b709-ddcaabe2111e",
   "metadata": {},
   "source": [
    "#####  Window Function and Ranking"
   ]
  },
  {
   "cell_type": "code",
   "execution_count": 119,
   "id": "5f9fe5dd-81b0-4641-a27c-dbb953e68680",
   "metadata": {},
   "outputs": [],
   "source": [
    "window_spec = Window.partitionBy('seller_id').orderBy(desc('price'))"
   ]
  },
  {
   "cell_type": "code",
   "execution_count": 120,
   "id": "f80c2c1f-0b51-494e-881b-53493e7d1eb4",
   "metadata": {},
   "outputs": [
    {
     "name": "stdout",
     "output_type": "stream",
     "text": [
      "+--------------------------------+-----+----+\n",
      "|seller_id                       |price|rank|\n",
      "+--------------------------------+-----+----+\n",
      "|0015a82c2db000af6aaaf3ae2ecb0532|895.0|1   |\n",
      "|0015a82c2db000af6aaaf3ae2ecb0532|895.0|1   |\n",
      "|0015a82c2db000af6aaaf3ae2ecb0532|895.0|1   |\n",
      "|0015a82c2db000af6aaaf3ae2ecb0532|895.0|1   |\n",
      "|0015a82c2db000af6aaaf3ae2ecb0532|895.0|1   |\n",
      "|0015a82c2db000af6aaaf3ae2ecb0532|895.0|1   |\n",
      "|0015a82c2db000af6aaaf3ae2ecb0532|895.0|1   |\n",
      "|0015a82c2db000af6aaaf3ae2ecb0532|895.0|1   |\n",
      "|0015a82c2db000af6aaaf3ae2ecb0532|895.0|1   |\n",
      "|0015a82c2db000af6aaaf3ae2ecb0532|895.0|1   |\n",
      "|0015a82c2db000af6aaaf3ae2ecb0532|895.0|1   |\n",
      "|0015a82c2db000af6aaaf3ae2ecb0532|895.0|1   |\n",
      "|0015a82c2db000af6aaaf3ae2ecb0532|895.0|1   |\n",
      "|0015a82c2db000af6aaaf3ae2ecb0532|895.0|1   |\n",
      "|0015a82c2db000af6aaaf3ae2ecb0532|895.0|1   |\n",
      "|0015a82c2db000af6aaaf3ae2ecb0532|895.0|1   |\n",
      "|0015a82c2db000af6aaaf3ae2ecb0532|895.0|1   |\n",
      "|0015a82c2db000af6aaaf3ae2ecb0532|895.0|1   |\n",
      "|0015a82c2db000af6aaaf3ae2ecb0532|895.0|1   |\n",
      "|0015a82c2db000af6aaaf3ae2ecb0532|895.0|1   |\n",
      "+--------------------------------+-----+----+\n",
      "only showing top 20 rows\n",
      "\n"
     ]
    }
   ],
   "source": [
    "# Rank Top Selling Products Per seller\n",
    "top_seller_products_df = full_orders_df.withColumn('rank',rank().over(window_spec)).filter(col('rank')<=5)\n",
    "top_seller_products_df.select('seller_id','price','rank').show(truncate=False)"
   ]
  },
  {
   "cell_type": "code",
   "execution_count": 121,
   "id": "4f99d2e3-dd31-4643-a3e8-3b9ce6a42799",
   "metadata": {},
   "outputs": [
    {
     "name": "stdout",
     "output_type": "stream",
     "text": [
      "+--------------------------------+--------------------+----------+\n",
      "|seller_id                       |total_revenue       |dense_rank|\n",
      "+--------------------------------+--------------------+----------+\n",
      "|4869f7a5dfa277a7dca6462dcf3b52b2|3.613871732000011E7 |1         |\n",
      "|53243585a1d6dc2643021fd1853d8905|3.4291592950000085E7|2         |\n",
      "|4a3ca9315b744ce9f8e9374361493884|3.3759570840000235E7|3         |\n",
      "|7c67e1448b00f6e969d365cea6b010ab|3.22823217899995E7  |4         |\n",
      "|fa1c13f2614d7b5c4749cbc52fecda94|3.013938631000002E7 |5         |\n",
      "|da8622b14eb17ae2831f4ac5b9dab84a|2.985766972999996E7 |6         |\n",
      "|7e93a43ef30c4f03f38b393420bc753a|2.6315706299999934E7|7         |\n",
      "|1025f0e2d44d7041d6cf58b6550e0bfa|2.2937518519999977E7|8         |\n",
      "|46dc3b2cc0980fb8ec44634e21d2718e|2.179177328999985E7 |9         |\n",
      "|955fee9216a65b617aa5c0531780ce60|2.096441067000001E7 |10        |\n",
      "|7a67c85e85bb2ce8582c35f2203ad736|2.0312794889999878E7|11        |\n",
      "|620c87c171fb2a6dd6e8bb4dec959fc6|2.011983960000009E7 |12        |\n",
      "|7d13fca15225358621be4086e1eb0964|1.815688191000001E7 |13        |\n",
      "|a1043bafd471dff536d0c462352beb48|1.7662675979999933E7|14        |\n",
      "|6560211a19b47992c3666cc44a7e94c0|1.7315932900000002E7|15        |\n",
      "|edb1ef5e36e0c8cd84eb3c9b003e486d|1.6624835149999904E7|16        |\n",
      "|1f50f920176fa81dab994f9023523100|1.6497454439999796E7|17        |\n",
      "|5dceca129747e92ff8ef7a997dc4f8ca|1.4910548339999989E7|18        |\n",
      "|cc419e0650a3c5ba77189a1882b7556a|1.475146450000006E7 |19        |\n",
      "|3d871de0142ce09b7081e2b9d1733cb1|1.4184525299999995E7|20        |\n",
      "+--------------------------------+--------------------+----------+\n",
      "only showing top 20 rows\n",
      "\n"
     ]
    }
   ],
   "source": [
    "# Dense Rank for Sellers Based on Revenue\n",
    "window_spec = Window.orderBy(desc('total_revenue'))\n",
    "\n",
    "# Calculate total revenue per seller and apply dense rank\n",
    "seller_revenue_rank_df = full_orders_df.groupBy('seller_id') \\\n",
    "    .agg(sum('price').alias('total_revenue')) \\\n",
    "    .withColumn('dense_rank', dense_rank().over(window_spec)) \\\n",
    "    .orderBy('dense_rank')\n",
    "\n",
    "# Show results\n",
    "seller_revenue_rank_df.show(truncate=False)"
   ]
  },
  {
   "cell_type": "code",
   "execution_count": 122,
   "id": "2b177653-4b06-4714-8a0f-9221e79319bf",
   "metadata": {},
   "outputs": [
    {
     "name": "stdout",
     "output_type": "stream",
     "text": [
      "+--------------------+------------+------------------+-------+\n",
      "|         customer_id|total_orders|       total_spent|    AOV|\n",
      "+--------------------+------------+------------------+-------+\n",
      "|d3e82ccec3cb5f956...|        6876|         6662844.0|  969.0|\n",
      "|df55c14d1476a9a34...|         743|         3565657.0| 4799.0|\n",
      "|fe5113a38e3575c04...|        2292|         3293604.0| 1437.0|\n",
      "|ec5b2ba62e5743423...|        1428|         2556120.0| 1790.0|\n",
      "|63b964e79dee32a35...|        6072|         2501664.0|  412.0|\n",
      "|46bb3c0b1a65c8399...|         748|         2336752.0| 3124.0|\n",
      "|05455dfa7cd02f13d...|        2184| 2160194.400000087|  989.1|\n",
      "|3690e975641f01bd0...|         802|         2124498.0| 2649.0|\n",
      "|349509b216bd5ec11...|         743|         1923627.0| 2589.0|\n",
      "|695476b5848d64ba0...|         687|1820543.1299999943|2649.99|\n",
      "|73236a0796f53d60d...|         832|         1755520.0| 2110.0|\n",
      "|cc803a2c412833101...|         762|         1676400.0| 2200.0|\n",
      "|1ff773612ab8934db...|        5820|1658641.7999999512| 284.99|\n",
      "|fced842c7dad61e8c...|         602|         1654898.0| 2749.0|\n",
      "|1ecb47d23dc8203cd...|        1164|1629588.3599999903|1399.99|\n",
      "|de832e8dbb1f588a4...|        2190|1584990.5999999817| 723.74|\n",
      "|803cd9b04f9cd252c...|         488|         1512312.0| 3099.0|\n",
      "|d72181923840c8895...|        2721|1488114.8999999566|  546.9|\n",
      "|06d478ba352a27a51...|        1146|         1461150.0| 1275.0|\n",
      "|0049e8442c2a3e4a8...|        1204|         1444800.0| 1200.0|\n",
      "+--------------------+------------+------------------+-------+\n",
      "only showing top 20 rows\n",
      "\n"
     ]
    }
   ],
   "source": [
    "# Total Revenue & Average Order Value (AOV) per Customer\n",
    "customer_spending_df = full_orders_df.groupBy('customer_id')\\\n",
    ".agg(count('order_id').alias('total_orders'),sum('price').alias('total_spent'),round(avg('price'),2).alias('AOV'))\\\n",
    ".orderBy(desc('total_spent'))\n",
    "customer_spending_df.show()"
   ]
  },
  {
   "cell_type": "code",
   "execution_count": 123,
   "id": "f8bb35a1-3083-442f-b268-2a7fae4448df",
   "metadata": {},
   "outputs": [
    {
     "name": "stdout",
     "output_type": "stream",
     "text": [
      "+--------------------+------------+--------------------+----------------+-----------------+\n",
      "|           seller_id|total_orders|       total_revenue|avg_review_score|price_variability|\n",
      "+--------------------+------------+--------------------+----------------+-----------------+\n",
      "|4869f7a5dfa277a7d...|      184587| 3.613871732000011E7|            4.09|           111.65|\n",
      "|53243585a1d6dc264...|       54514|3.4291592950000085E7|            4.12|           499.65|\n",
      "|4a3ca9315b744ce9f...|      330661|3.3759570840000235E7|            3.77|            59.37|\n",
      "|7c67e1448b00f6e96...|      233306|  3.22823217899995E7|            3.42|            50.39|\n",
      "|fa1c13f2614d7b5c4...|       87686| 3.013938631000002E7|            4.38|            307.7|\n",
      "|da8622b14eb17ae28...|      264433| 2.985766972999996E7|            3.98|            72.92|\n",
      "|7e93a43ef30c4f03f...|       50226|2.6315706299999934E7|            4.15|           377.24|\n",
      "|1025f0e2d44d7041d...|      229587|2.2937518519999977E7|            3.89|             84.3|\n",
      "|46dc3b2cc0980fb8e...|       90426| 2.179177328999985E7|            4.18|           187.49|\n",
      "|955fee9216a65b617...|      232364| 2.096441067000001E7|            4.04|            84.94|\n",
      "|7a67c85e85bb2ce85...|      167231|2.0312794889999878E7|            4.26|            56.23|\n",
      "|620c87c171fb2a6dd...|      142232| 2.011983960000009E7|            4.36|           100.45|\n",
      "|7d13fca1522535862...|       88807| 1.815688191000001E7|            4.07|           151.18|\n",
      "|a1043bafd471dff53...|      132672|1.7662675979999933E7|            4.25|            37.19|\n",
      "|6560211a19b47992c...|      286539|1.7315932900000002E7|            3.86|            35.04|\n",
      "|edb1ef5e36e0c8cd8...|       38945|1.6624835149999904E7|            4.43|           460.85|\n",
      "|1f50f920176fa81da...|      297292|1.6497454439999796E7|            4.04|             7.39|\n",
      "|5dceca129747e92ff...|       50420|1.4910548339999989E7|            4.17|           299.84|\n",
      "|cc419e0650a3c5ba7...|      256032| 1.475146450000006E7|            4.07|            22.67|\n",
      "|3d871de0142ce09b7...|      175876|1.4184525299999995E7|            4.15|            38.14|\n",
      "+--------------------+------------+--------------------+----------------+-----------------+\n",
      "only showing top 20 rows\n",
      "\n"
     ]
    }
   ],
   "source": [
    "# Seller Performance Metrics ( Revenue, Average Review, Order Count)\n",
    "seller_performance_df = full_orders_df.groupBy('seller_id') \\\n",
    ".agg(count('order_id').alias('total_orders'),\n",
    "sum('price').alias('total_revenue'),\n",
    "round(avg('review_score'),2).alias('avg_review_score'),\n",
    "round(stddev('price'),2).alias('price_variability')\n",
    ")\\\n",
    ".orderBy(desc('total_revenue'))\n",
    "\n",
    "seller_performance_df.show()"
   ]
  },
  {
   "cell_type": "code",
   "execution_count": 124,
   "id": "a28b6622-c6e6-4a95-9016-becbf42bf1db",
   "metadata": {},
   "outputs": [
    {
     "name": "stdout",
     "output_type": "stream",
     "text": [
      "+--------------------+-----------+------------------+---------+----------------+--------------------+\n",
      "|          product_id|total_sales|     total_revenue|avg_price|price_volatility|      unique_sellers|\n",
      "+--------------------+-----------+------------------+---------+----------------+--------------------+\n",
      "|aca2eb7d00ea1a7b8...|      86740| 6164630.300000014|    71.07|            3.17|[955fee9216a65b61...|\n",
      "|422879e10f4668299...|      81110| 4442791.510000015|    54.77|            4.46|[1f50f920176fa81d...|\n",
      "|99a4788cb24856965...|      78775| 6921762.710000007|    87.87|            4.08|[4a3ca9315b744ce9...|\n",
      "|389d119b48cf3043d...|      60248| 3280533.129999999|    54.45|            4.37|[1f50f920176fa81d...|\n",
      "|d1c427060a0f73f6b...|      59274| 8220103.329999986|   138.68|           16.58|[a1043bafd471dff5...|\n",
      "|368c6c730842d7801...|      58358|3181698.8999999957|    54.52|            4.59|[1f50f920176fa81d...|\n",
      "|53759a2ecddad2bb8...|      52654| 2893017.500000002|    54.94|            4.52|[1f50f920176fa81d...|\n",
      "|53b36df67ebb7c415...|      52105| 6159887.409999995|   118.22|           20.13|[7d13fca152253586...|\n",
      "|154e7e31ebfa09220...|      42700| 962160.9999999976|    22.53|            1.92|[cc419e0650a3c5ba...|\n",
      "|3dd2a17168ec895c7...|      40787|  6116941.30000001|   149.97|            0.85|[de722cd6dad950a9...|\n",
      "|e53e557d5a159f5aa...|      39516|3329353.9499999885|    84.25|           11.32|[6973a06f484aacf4...|\n",
      "|2b4609f8948be1887...|      36179| 3171618.770000004|    87.66|            4.22|[cc419e0650a3c5ba...|\n",
      "|35afc973633aaeb6b...|      31206| 2735669.000000059|    87.66|            3.32|[d20b021d3efdf267...|\n",
      "|e0d64dcfaa3b6db5c...|      31153| 5226407.629999989|   167.77|            30.9|[7d13fca152253586...|\n",
      "|42a2c92a0979a949c...|      30486|1810926.0000000098|     59.4|            0.64|[813348c996469b40...|\n",
      "|7c1bd920dbdf22470...|      29018|1739338.8200000045|    59.94|            2.77|[cc419e0650a3c5ba...|\n",
      "|a62e25e09e05e6faf...|      28898|         3079869.0|   106.58|             1.5|[634964b17796e643...|\n",
      "|5a848e4ab52fd5445...|      28737|3534363.6300000134|   122.99|             0.0|[c826c40d7b19f62a...|\n",
      "|c4baedd846ed09b85...|      28166|2802044.6500000097|    99.48|            11.9|[a1043bafd471dff5...|\n",
      "|b532349fe46b38fbc...|      27176| 993089.5699999995|    36.54|            1.92|[1025f0e2d44d7041...|\n",
      "+--------------------+-----------+------------------+---------+----------------+--------------------+\n",
      "only showing top 20 rows\n",
      "\n"
     ]
    }
   ],
   "source": [
    "# Product Popularity Metrics\n",
    "product_metrics_df = full_orders_df.groupBy('product_id')\\\n",
    ".agg(\n",
    "count('order_id').alias('total_sales'),\n",
    "sum('price').alias('total_revenue'),\n",
    "round(avg('price'),2).alias('avg_price'),\n",
    "round(stddev('price'),2).alias('price_volatility'),\\\n",
    "collect_set('seller_id').alias('unique_sellers')\n",
    ")\\\n",
    ".orderBy(desc('total_sales'))\n",
    "\n",
    "product_metrics_df.show()"
   ]
  },
  {
   "cell_type": "code",
   "execution_count": 125,
   "id": "aa666088-af5c-40a2-8f8b-b6b2670d1c83",
   "metadata": {},
   "outputs": [
    {
     "name": "stdout",
     "output_type": "stream",
     "text": [
      "=== Monthly Trend with Growth Rates ===\n",
      "+-------------+--------------+------------+--------------+---------------+--------------+------------+\n",
      "|purchase_year|purchase_month|total_orders|total_revenue |avg_order_value|revenue_growth|order_growth|\n",
      "+-------------+--------------+------------+--------------+---------------+--------------+------------+\n",
      "|2016         |9             |1268        |57431.0       |45.29          |0.0           |0.0         |\n",
      "|2016         |10            |62812       |8301215.43    |132.16         |14354.24      |4853.63     |\n",
      "|2016         |12            |304         |3313.6        |10.9           |-99.96        |-99.52      |\n",
      "|2017         |1             |154814      |1.749501938E7 |113.01         |527876.2      |50825.66    |\n",
      "|2017         |2             |314901      |3.771518492E7 |119.77         |115.58        |103.41      |\n",
      "|2017         |3             |493268      |6.410433591E7 |129.96         |69.97         |56.64       |\n",
      "|2017         |4             |428106      |5.830563201E7 |136.19         |-9.05         |-13.21      |\n",
      "|2017         |5             |681522      |8.320509538E7 |122.09         |42.71         |59.19       |\n",
      "|2017         |6             |578515      |6.957582137E7 |120.27         |-16.38        |-15.11      |\n",
      "|2017         |7             |760829      |8.398955144E7 |110.39         |20.72         |31.51       |\n",
      "|2017         |8             |801394      |9.661791376E7 |120.56         |15.04         |5.33        |\n",
      "|2017         |9             |761877      |9.585077286E7 |125.81         |-0.79         |-4.93       |\n",
      "|2017         |10            |860156      |1.0522491751E8|122.33         |9.78          |12.9        |\n",
      "|2017         |11            |1422336     |1.6603721754E8|116.74         |57.79         |65.36       |\n",
      "|2017         |12            |1022973     |1.260196621E8 |123.19         |-24.1         |-28.08      |\n",
      "|2018         |1             |1340766     |1.5403788212E8|114.89         |22.23         |31.07       |\n",
      "|2018         |2             |1236262     |1.4106659915E8|114.11         |-8.42         |-7.79       |\n",
      "|2018         |3             |1316199     |1.5457683252E8|117.44         |9.58          |6.47        |\n",
      "|2018         |4             |1265754     |1.5885133712E8|125.5          |2.77          |-3.83       |\n",
      "|2018         |5             |1237049     |1.5685605659E8|126.8          |-1.26         |-2.27       |\n",
      "+-------------+--------------+------------+--------------+---------------+--------------+------------+\n",
      "only showing top 20 rows\n",
      "\n"
     ]
    }
   ],
   "source": [
    "window_spec = Window.orderBy('purchase_year', 'purchase_month')\n",
    "\n",
    "monthly_trend_growth_df = full_orders_df \\\n",
    "    .groupBy(\n",
    "        year('order_purchase_timestamp').alias('purchase_year'),\n",
    "        month('order_purchase_timestamp').alias('purchase_month')\n",
    "    ) \\\n",
    "    .agg(\n",
    "        count('order_id').alias('total_orders'),\n",
    "        round(sum('price'), 2).alias('total_revenue'),\n",
    "        round(avg('price'), 2).alias('avg_order_value')\n",
    "    ) \\\n",
    "    .orderBy('purchase_year', 'purchase_month') \\\n",
    "    .withColumn('prev_month_revenue', lag('total_revenue').over(window_spec)) \\\n",
    "    .withColumn('revenue_growth', \n",
    "                when(isnull(col('total_revenue') - col('prev_month_revenue')), 0)\n",
    "                .otherwise(round(((col('total_revenue') - col('prev_month_revenue')) / col('prev_month_revenue')) * 100, 2))) \\\n",
    "    .withColumn('prev_month_orders', lag('total_orders').over(window_spec)) \\\n",
    "    .withColumn('order_growth', \n",
    "                when(isnull(col('total_orders') - col('prev_month_orders')), 0)\n",
    "                .otherwise(round(((col('total_orders') - col('prev_month_orders')) / col('prev_month_orders')) * 100, 2))) \\\n",
    "    .select('purchase_year', 'purchase_month', 'total_orders', 'total_revenue', \n",
    "            'avg_order_value', 'revenue_growth', 'order_growth')\n",
    "\n",
    "print(\"=== Monthly Trend with Growth Rates ===\")\n",
    "monthly_trend_growth_df.show(truncate=False)"
   ]
  },
  {
   "cell_type": "code",
   "execution_count": 126,
   "id": "5383204d-36ea-404e-8213-867ac3b20f59",
   "metadata": {},
   "outputs": [],
   "source": [
    "# Customer Retention Analysis ( First & Last Order )\n",
    "customer_retention_df = full_orders_df.groupBy('customer_id')\\\n",
    ".agg(\n",
    "first('order_purchase_timestamp').alias('first_order_date'),\n",
    "last('order_purchase_timestamp').alias('last_order_date'),\n",
    "count('order_id').alias('total_orders'),\n",
    "round(avg('price'),2).alias('aov')\n",
    ")\\\n",
    ".orderBy(desc('total_orders'))"
   ]
  },
  {
   "cell_type": "code",
   "execution_count": 127,
   "id": "04391c15-cc41-47b7-9d3e-9eaab6a0f355",
   "metadata": {},
   "outputs": [
    {
     "name": "stdout",
     "output_type": "stream",
     "text": [
      "+--------------------+-------------------+-------------------+------------+------+\n",
      "|         customer_id|   first_order_date|    last_order_date|total_orders|   aov|\n",
      "+--------------------+-------------------+-------------------+------------+------+\n",
      "|351e40989da90e704...|2017-07-13 10:42:37|2017-07-13 10:42:37|       11427| 85.99|\n",
      "|50920f8cd0681fd86...|2018-01-27 11:28:32|2018-01-27 11:28:32|       10752| 43.82|\n",
      "|9b43e2a62de9bab3a...|2017-05-25 22:27:50|2017-05-25 22:27:50|        8556|  26.4|\n",
      "|270c23a11d024a44c...|2017-08-08 20:26:31|2017-08-08 20:26:31|        8001| 36.59|\n",
      "|5c87184371002d49e...|2018-01-05 19:15:37|2018-01-05 19:15:37|        6876| 12.49|\n",
      "|d3e82ccec3cb5f956...|2017-03-18 14:28:34|2017-03-18 14:28:34|        6876| 969.0|\n",
      "|d5f2b3f597c7ccafb...|2017-12-13 14:21:15|2017-12-13 14:21:15|        6706|  59.0|\n",
      "|c2f18647725395af4...|2018-03-06 19:21:47|2018-03-06 19:21:47|        6612|  34.9|\n",
      "|24e7dc2ff8c071263...|2017-11-24 16:16:45|2017-11-24 16:16:45|        6597|  59.2|\n",
      "|7bb57d182bdc11653...|2018-04-02 17:11:30|2018-04-02 17:11:30|        6258|  86.9|\n",
      "|63b964e79dee32a35...|2018-02-14 16:34:27|2018-02-14 16:34:27|        6072| 412.0|\n",
      "|d22f25a9fadfb1abb...|2018-05-12 12:28:58|2018-05-12 12:28:58|        6072| 14.99|\n",
      "|1ff773612ab8934db...|2018-04-19 13:54:06|2018-04-19 13:54:06|        5820|284.99|\n",
      "|13aa59158da63ba0e...|2017-09-23 14:56:45|2017-09-23 14:56:45|        5206| 79.99|\n",
      "|78fc46047c4a639e8...|2017-11-28 22:24:18|2017-11-28 22:24:18|        5200|109.97|\n",
      "|dd3f1762eb601f41c...|2018-07-18 12:59:21|2018-07-18 12:59:21|        4992|179.99|\n",
      "|a193aa8d905b8e246...|2018-02-12 18:04:28|2018-02-12 18:04:28|        4896|  9.99|\n",
      "|9eb3d566e87289dcb...|2018-06-08 16:42:11|2018-06-08 16:42:11|        4872|  5.11|\n",
      "|2ba91e12e5e4c9f56...|2017-11-25 13:54:39|2017-11-25 13:54:39|        4752|  99.9|\n",
      "|1b2ab6eda1946a6ff...|2017-11-24 10:41:43|2017-11-24 10:41:43|        4728| 32.99|\n",
      "+--------------------+-------------------+-------------------+------------+------+\n",
      "only showing top 20 rows\n",
      "\n"
     ]
    }
   ],
   "source": [
    "customer_retention_df.show()"
   ]
  },
  {
   "cell_type": "code",
   "execution_count": 128,
   "id": "99a92c35-737a-4bfe-b40d-d812d2a70a9a",
   "metadata": {},
   "outputs": [
    {
     "name": "stdout",
     "output_type": "stream",
     "text": [
      "=== Customer Segmentation by Last Order Date ===\n",
      "+--------------------------------+-------------------+---------------------+----------------+\n",
      "|customer_id                     |last_order_date    |days_since_last_order|customer_segment|\n",
      "+--------------------------------+-------------------+---------------------+----------------+\n",
      "|4b7decb9b58e2569548b8b4c8e20e8d7|2018-09-03 09:06:57|2585                 |Lost            |\n",
      "|898b7fee99c4e42170ab69ba59be0a8b|2018-08-29 15:00:37|2590                 |Lost            |\n",
      "|496630b6740bcca28fce9ba50d8a26ef|2018-08-29 14:52:00|2590                 |Lost            |\n",
      "|6e353700bc7bcdf6ebc15d6de16d7002|2018-08-29 14:18:28|2590                 |Lost            |\n",
      "|e60df9449653a95af4549bbfcb18a6eb|2018-08-29 14:18:23|2590                 |Lost            |\n",
      "|e450a297a7bc6839ceb0cf1a2377fa02|2018-08-29 12:25:59|2590                 |Lost            |\n",
      "|56b1ac2855cc6d7950b4ffa6a9b41b0d|2018-08-29 11:06:11|2590                 |Lost            |\n",
      "|10a79ef2783cae3d8d678e85fde235ac|2018-08-29 10:22:35|2590                 |Lost            |\n",
      "|b8c19e70d00f6927388e4f31c923d785|2018-08-29 09:48:09|2590                 |Lost            |\n",
      "|54365416b7ef5599f54a6c7821d5d290|2018-08-29 09:14:11|2590                 |Lost            |\n",
      "|448945bc713d98b6726e82eda6249b9e|2018-08-29 08:46:11|2590                 |Lost            |\n",
      "|c4c66f47534e09a03fc7a878a9eda5ea|2018-08-29 08:25:34|2590                 |Lost            |\n",
      "|8ffe52ac7d480a27180338e697eec534|2018-08-28 22:51:54|2591                 |Lost            |\n",
      "|004440537b68545ca3c341d7279bc4c0|2018-08-28 22:30:32|2591                 |Lost            |\n",
      "|478778636c75019554439f75286a22e3|2018-08-28 21:56:30|2591                 |Lost            |\n",
      "|931bfab7036f6763dc1bdf6e2696e08b|2018-08-28 21:56:12|2591                 |Lost            |\n",
      "|0b5f6687d659478f1747caed607c4ec5|2018-08-28 21:10:46|2591                 |Lost            |\n",
      "|c5c43d14a781c58ed1fdac7c9652f18f|2018-08-28 20:49:17|2591                 |Lost            |\n",
      "|6eff0b0388f0e0829bd659d12e168828|2018-08-28 19:44:25|2591                 |Lost            |\n",
      "|f5fc6bc27d5c599cc9bed0a2eacf030e|2018-08-28 19:32:31|2591                 |Lost            |\n",
      "+--------------------------------+-------------------+---------------------+----------------+\n",
      "only showing top 20 rows\n",
      "\n"
     ]
    }
   ],
   "source": [
    "# HW - Correct the last_order_date\n",
    "customer_segmentation_df = full_orders_df.groupBy('customer_id') \\\n",
    "    .agg(max('order_purchase_timestamp').alias('last_order_date')) \\\n",
    "    .withColumn('days_since_last_order', \n",
    "                datediff(current_date(), col('last_order_date'))) \\\n",
    "    .withColumn('customer_segment',\n",
    "                when(col('days_since_last_order') <= 30, 'Active')\n",
    "                .when(col('days_since_last_order') <= 90, 'At Risk')\n",
    "                .when(col('days_since_last_order') <= 180, 'Churning')\n",
    "                .otherwise('Lost')) \\\n",
    "    .orderBy(col('last_order_date').desc())\n",
    "\n",
    "print(\"=== Customer Segmentation by Last Order Date ===\")\n",
    "customer_segmentation_df.show(truncate=False)"
   ]
  },
  {
   "cell_type": "code",
   "execution_count": 129,
   "id": "614c1407-aa34-4767-8c76-188877bea75b",
   "metadata": {},
   "outputs": [
    {
     "name": "stdout",
     "output_type": "stream",
     "text": [
      "+--------------------+------------+------------------+-------+----------------+\n",
      "|         customer_id|total_orders|       total_spent|    AOV|customer_segment|\n",
      "+--------------------+------------+------------------+-------+----------------+\n",
      "|d3e82ccec3cb5f956...|        6876|         6662844.0|  969.0|    Medium_Value|\n",
      "|df55c14d1476a9a34...|         743|         3565657.0| 4799.0|      High-Value|\n",
      "|fe5113a38e3575c04...|        2292|         3293604.0| 1437.0|      High-Value|\n",
      "|ec5b2ba62e5743423...|        1428|         2556120.0| 1790.0|      High-Value|\n",
      "|63b964e79dee32a35...|        6072|         2501664.0|  412.0|       Low-Value|\n",
      "|46bb3c0b1a65c8399...|         748|         2336752.0| 3124.0|      High-Value|\n",
      "|05455dfa7cd02f13d...|        2184| 2160194.400000087|  989.1|    Medium_Value|\n",
      "|3690e975641f01bd0...|         802|         2124498.0| 2649.0|      High-Value|\n",
      "|349509b216bd5ec11...|         743|         1923627.0| 2589.0|      High-Value|\n",
      "|695476b5848d64ba0...|         687|1820543.1299999943|2649.99|      High-Value|\n",
      "|73236a0796f53d60d...|         832|         1755520.0| 2110.0|      High-Value|\n",
      "|cc803a2c412833101...|         762|         1676400.0| 2200.0|      High-Value|\n",
      "|1ff773612ab8934db...|        5820|1658641.7999999512| 284.99|       Low-Value|\n",
      "|fced842c7dad61e8c...|         602|         1654898.0| 2749.0|      High-Value|\n",
      "|1ecb47d23dc8203cd...|        1164|1629588.3599999903|1399.99|      High-Value|\n",
      "|de832e8dbb1f588a4...|        2190|1584990.5999999817| 723.74|    Medium_Value|\n",
      "|803cd9b04f9cd252c...|         488|         1512312.0| 3099.0|      High-Value|\n",
      "|d72181923840c8895...|        2721|1488114.8999999566|  546.9|       Low-Value|\n",
      "|06d478ba352a27a51...|        1146|         1461150.0| 1275.0|      High-Value|\n",
      "|0049e8442c2a3e4a8...|        1204|         1444800.0| 1200.0|      High-Value|\n",
      "+--------------------+------------+------------------+-------+----------------+\n",
      "only showing top 20 rows\n",
      "\n"
     ]
    }
   ],
   "source": [
    "# Customer Segmentation based on spending\n",
    "customer_spending_df = customer_spending_df.withColumn(\n",
    "'customer_segment',\n",
    "when(col('AOV') >=1200,\"High-Value\")\n",
    ".when( (col('AOV')<1200) & (col('AOV') >=700),'Medium_Value')\n",
    ".otherwise('Low-Value'))\n",
    "\n",
    "customer_spending_df.show()"
   ]
  },
  {
   "cell_type": "code",
   "execution_count": 130,
   "id": "90ff7f94-591b-48bb-92fb-cccdb467da65",
   "metadata": {},
   "outputs": [],
   "source": [
    "full_orders_df = full_orders_df.join(customer_spending_df.select('customer_id','customer_segment'),'customer_id',how='left')"
   ]
  },
  {
   "cell_type": "code",
   "execution_count": 131,
   "id": "957fbef5-fe17-40f0-8836-af5e9729ab57",
   "metadata": {},
   "outputs": [
    {
     "name": "stdout",
     "output_type": "stream",
     "text": [
      "+--------------------+----------------+\n",
      "|         customer_id|customer_segment|\n",
      "+--------------------+----------------+\n",
      "|8cc82cbc81afbff38...|       Low-Value|\n",
      "|8cc82cbc81afbff38...|       Low-Value|\n",
      "|8cc82cbc81afbff38...|       Low-Value|\n",
      "|8cc82cbc81afbff38...|       Low-Value|\n",
      "|8cc82cbc81afbff38...|       Low-Value|\n",
      "|8cc82cbc81afbff38...|       Low-Value|\n",
      "|8cc82cbc81afbff38...|       Low-Value|\n",
      "|8cc82cbc81afbff38...|       Low-Value|\n",
      "|8cc82cbc81afbff38...|       Low-Value|\n",
      "|8cc82cbc81afbff38...|       Low-Value|\n",
      "|8cc82cbc81afbff38...|       Low-Value|\n",
      "|8cc82cbc81afbff38...|       Low-Value|\n",
      "|8cc82cbc81afbff38...|       Low-Value|\n",
      "|8cc82cbc81afbff38...|       Low-Value|\n",
      "|8cc82cbc81afbff38...|       Low-Value|\n",
      "|8cc82cbc81afbff38...|       Low-Value|\n",
      "|8cc82cbc81afbff38...|       Low-Value|\n",
      "|8cc82cbc81afbff38...|       Low-Value|\n",
      "|8cc82cbc81afbff38...|       Low-Value|\n",
      "|8cc82cbc81afbff38...|       Low-Value|\n",
      "+--------------------+----------------+\n",
      "only showing top 20 rows\n",
      "\n"
     ]
    }
   ],
   "source": [
    "full_orders_df.select('customer_id','customer_segment').show()"
   ]
  },
  {
   "cell_type": "code",
   "execution_count": 132,
   "id": "0558cf4d-63a6-4545-83e7-b12894bbc3da",
   "metadata": {},
   "outputs": [
    {
     "name": "stdout",
     "output_type": "stream",
     "text": [
      "+------------------------+\n",
      "|order_purchase_timestamp|\n",
      "+------------------------+\n",
      "|     2018-03-13 15:43:40|\n",
      "|     2018-03-13 15:43:40|\n",
      "|     2018-03-13 15:43:40|\n",
      "|     2018-03-13 15:43:40|\n",
      "|     2018-03-13 15:43:40|\n",
      "|     2018-03-13 15:43:40|\n",
      "|     2018-03-13 15:43:40|\n",
      "|     2018-03-13 15:43:40|\n",
      "|     2018-03-13 15:43:40|\n",
      "|     2018-03-13 15:43:40|\n",
      "|     2018-03-13 15:43:40|\n",
      "|     2018-03-13 15:43:40|\n",
      "|     2018-03-13 15:43:40|\n",
      "|     2018-03-13 15:43:40|\n",
      "|     2018-03-13 15:43:40|\n",
      "|     2018-03-13 15:43:40|\n",
      "|     2018-03-13 15:43:40|\n",
      "|     2018-03-13 15:43:40|\n",
      "|     2018-03-13 15:43:40|\n",
      "|     2018-03-13 15:43:40|\n",
      "+------------------------+\n",
      "only showing top 20 rows\n",
      "\n"
     ]
    }
   ],
   "source": [
    "full_orders_df.select('order_purchase_timestamp').show()"
   ]
  },
  {
   "cell_type": "code",
   "execution_count": 133,
   "id": "4dc28a77-10e6-4af4-80ec-868a656e2cac",
   "metadata": {},
   "outputs": [],
   "source": [
    "#Hourly Order Distribution\n",
    "full_orders_df = full_orders_df.withColumn('hour_of_day',expr('hour(order_purchase_timestamp)'))"
   ]
  },
  {
   "cell_type": "code",
   "execution_count": 134,
   "id": "cabdf6e0-b566-4e2d-9dfb-0217b501803a",
   "metadata": {},
   "outputs": [
    {
     "name": "stdout",
     "output_type": "stream",
     "text": [
      "+------------------------+-----------+\n",
      "|order_purchase_timestamp|hour_of_day|\n",
      "+------------------------+-----------+\n",
      "|     2018-03-13 15:43:40|         15|\n",
      "|     2018-03-13 15:43:40|         15|\n",
      "|     2018-03-13 15:43:40|         15|\n",
      "|     2018-03-13 15:43:40|         15|\n",
      "|     2018-03-13 15:43:40|         15|\n",
      "|     2018-03-13 15:43:40|         15|\n",
      "|     2018-03-13 15:43:40|         15|\n",
      "|     2018-03-13 15:43:40|         15|\n",
      "|     2018-03-13 15:43:40|         15|\n",
      "|     2018-03-13 15:43:40|         15|\n",
      "|     2018-03-13 15:43:40|         15|\n",
      "|     2018-03-13 15:43:40|         15|\n",
      "|     2018-03-13 15:43:40|         15|\n",
      "|     2018-03-13 15:43:40|         15|\n",
      "|     2018-03-13 15:43:40|         15|\n",
      "|     2018-03-13 15:43:40|         15|\n",
      "|     2018-03-13 15:43:40|         15|\n",
      "|     2018-03-13 15:43:40|         15|\n",
      "|     2018-03-13 15:43:40|         15|\n",
      "|     2018-03-13 15:43:40|         15|\n",
      "+------------------------+-----------+\n",
      "only showing top 20 rows\n",
      "\n"
     ]
    }
   ],
   "source": [
    "full_orders_df.select('order_purchase_timestamp','hour_of_day').show()"
   ]
  },
  {
   "cell_type": "code",
   "execution_count": 135,
   "id": "072a0b33-c45e-492b-8a82-8ef36daa56e8",
   "metadata": {},
   "outputs": [
    {
     "name": "stdout",
     "output_type": "stream",
     "text": [
      "+------------------------+--------------+\n",
      "|order_purchase_timestamp|order_day_type|\n",
      "+------------------------+--------------+\n",
      "|     2018-03-13 15:43:40|       Weekday|\n",
      "|     2018-03-13 15:43:40|       Weekday|\n",
      "|     2018-03-13 15:43:40|       Weekday|\n",
      "|     2018-03-13 15:43:40|       Weekday|\n",
      "|     2018-03-13 15:43:40|       Weekday|\n",
      "|     2018-03-13 15:43:40|       Weekday|\n",
      "|     2018-03-13 15:43:40|       Weekday|\n",
      "|     2018-03-13 15:43:40|       Weekday|\n",
      "|     2018-03-13 15:43:40|       Weekday|\n",
      "|     2018-03-13 15:43:40|       Weekday|\n",
      "|     2018-03-13 15:43:40|       Weekday|\n",
      "|     2018-03-13 15:43:40|       Weekday|\n",
      "|     2018-03-13 15:43:40|       Weekday|\n",
      "|     2018-03-13 15:43:40|       Weekday|\n",
      "|     2018-03-13 15:43:40|       Weekday|\n",
      "|     2018-03-13 15:43:40|       Weekday|\n",
      "|     2018-03-13 15:43:40|       Weekday|\n",
      "|     2018-03-13 15:43:40|       Weekday|\n",
      "|     2018-03-13 15:43:40|       Weekday|\n",
      "|     2018-03-13 15:43:40|       Weekday|\n",
      "+------------------------+--------------+\n",
      "only showing top 20 rows\n",
      "\n"
     ]
    }
   ],
   "source": [
    "# Weekday vs Weekend Order\n",
    "full_orders_df = full_orders_df.withColumn('order_day_type',\n",
    "    when(dayofweek('order_purchase_timestamp').isin(1, 7), lit('Weekend'))\n",
    "    .otherwise(lit('Weekday'))\n",
    ")\n",
    "\n",
    "full_orders_df.select('order_purchase_timestamp','order_day_type').show()"
   ]
  },
  {
   "cell_type": "code",
   "execution_count": 136,
   "id": "91b01418-8cc1-4cf6-add0-c147932ba380",
   "metadata": {},
   "outputs": [
    {
     "name": "stdout",
     "output_type": "stream",
     "text": [
      "Deleted /user/winardi/data/olist/processed\n"
     ]
    }
   ],
   "source": [
    "!hdfs dfs -rm -r /user/winardi/data/olist/processed/"
   ]
  },
  {
   "cell_type": "code",
   "execution_count": 137,
   "id": "5a42b1f9-2fb0-4631-a14f-0b42f46c5f8d",
   "metadata": {},
   "outputs": [
    {
     "name": "stderr",
     "output_type": "stream",
     "text": [
      "ls: `/user/winardi/data/olist/processed/': No such file or directory\n"
     ]
    }
   ],
   "source": [
    "!hdfs dfs -ls -h /user/winardi/data/olist/processed/"
   ]
  },
  {
   "cell_type": "code",
   "execution_count": 138,
   "id": "e9b8f0d7-09f9-40cd-96ff-d1f77665b6a5",
   "metadata": {},
   "outputs": [],
   "source": [
    "!hdfs dfs -mkdir /user/winardi/data/olist/processed/"
   ]
  },
  {
   "cell_type": "code",
   "execution_count": 139,
   "id": "0b7a52fa-9f09-4760-aa48-004c2f9bfac7",
   "metadata": {},
   "outputs": [],
   "source": [
    " full_orders_df.write.mode('overwrite').parquet('hdfs://localhost:9000/user/winardi/data/olist/processed/')"
   ]
  }
 ],
 "metadata": {
  "kernelspec": {
   "display_name": "Python 3 (ipykernel)",
   "language": "python",
   "name": "python3"
  },
  "language_info": {
   "codemirror_mode": {
    "name": "ipython",
    "version": 3
   },
   "file_extension": ".py",
   "mimetype": "text/x-python",
   "name": "python",
   "nbconvert_exporter": "python",
   "pygments_lexer": "ipython3",
   "version": "3.10.18"
  }
 },
 "nbformat": 4,
 "nbformat_minor": 5
}
