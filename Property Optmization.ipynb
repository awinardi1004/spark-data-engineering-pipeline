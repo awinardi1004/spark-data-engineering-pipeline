{
 "cells": [
  {
   "cell_type": "code",
   "execution_count": 20,
   "id": "514e0794-4156-4ba9-a263-6c7fab8489f8",
   "metadata": {},
   "outputs": [],
   "source": [
    "from pyspark.sql import SparkSession\n",
    "from pyspark.sql.functions import *"
   ]
  },
  {
   "cell_type": "code",
   "execution_count": 14,
   "id": "35e46608-df74-4b8c-afa0-b86ac8208079",
   "metadata": {},
   "outputs": [],
   "source": [
    "spark = SparkSession.builder \\\n",
    ".appName('Olist Ecommerce Performance Optmization') \\\n",
    ".config('spark.executor.memory','6g') \\\n",
    ".config('spark.executor.cores','4') \\\n",
    ".config('spark.executor.instances','2') \\\n",
    ".config('spark.driver.memory','4g') \\\n",
    ".config('spark.driver.maxResultSize','2g') \\\n",
    ".config('spark.sql.shuffle.partitions','64') \\\n",
    ".config('spark.default.parallelism','64') \\\n",
    ".config('spark.sql.adaptive.enabled','true') \\\n",
    ".config('spark.sql.adaptive.coalescePartition.enabled','true') \\\n",
    ".config('spark.sql.autoBroadcastJoinThreshold',20*1024*1024) \\\n",
    ".config('spark.sql.files.maxPartitionBytes','64MB') \\\n",
    ".config('spark.sql.files.openCostInBytes','2MB') \\\n",
    ".config('spark.memory.fraction',0.8) \\\n",
    ".config('spark.memory.storageFraction',0.2) \\\n",
    ".getOrCreate()"
   ]
  },
  {
   "cell_type": "code",
   "execution_count": 15,
   "id": "e3c564c3-8e2f-4264-b0c8-6c206af420ea",
   "metadata": {},
   "outputs": [],
   "source": [
    "hdfs_path =\"hdfs://localhost:9000/user/winardi/data/olist_proc/\""
   ]
  },
  {
   "cell_type": "code",
   "execution_count": 16,
   "id": "17bb7ea0-efd5-4db1-bf79-b637315a8b6c",
   "metadata": {},
   "outputs": [],
   "source": [
    "customers_df = spark.read.parquet(hdfs_path + \"customers_cleaned.parquet\")\n",
    "orders_df = spark.read.parquet(hdfs_path + \"orders_cleaned.parquet\")\n",
    "order_items_df = spark.read.parquet(hdfs_path + \"order_items_cleaned.parquet\")\n",
    "payments_df = spark.read.parquet(hdfs_path + \"payments_cleaned.parquet\")\n",
    "reviews_df = spark.read.parquet(hdfs_path + \"reviews_cleaned.parquet\")\n",
    "products_df = spark.read.parquet(hdfs_path + \"product_cleaned.parquet\")\n",
    "sellers_df = spark.read.parquet(hdfs_path + \"sellers_cleaned.parquet\")\n",
    "geolocation_df = spark.read.parquet(hdfs_path + \"geolocation_cleaned.parquet\")\n",
    "category_translation_df = spark.read.parquet(hdfs_path + \"category_translation_cleaned.parquet\")"
   ]
  },
  {
   "cell_type": "code",
   "execution_count": 10,
   "id": "dd1bc913-af27-4eba-994d-69922e1a36bd",
   "metadata": {},
   "outputs": [],
   "source": [
    "processed_path = \"hdfs://localhost:9000/user/winardi/data/olist/processed/\""
   ]
  },
  {
   "cell_type": "code",
   "execution_count": 17,
   "id": "ce4c69ce-509e-4221-a4cf-a68984ce460a",
   "metadata": {},
   "outputs": [],
   "source": [
    "full_orders_df = spark.read.parquet(processed_path)"
   ]
  },
  {
   "cell_type": "code",
   "execution_count": 18,
   "id": "cac23c10-ea5a-4843-ac10-84bb0ae3cd80",
   "metadata": {},
   "outputs": [
    {
     "name": "stdout",
     "output_type": "stream",
     "text": [
      "root\n",
      " |-- customer_id: string (nullable = true)\n",
      " |-- order_id: string (nullable = true)\n",
      " |-- seller_id: string (nullable = true)\n",
      " |-- product_id: string (nullable = true)\n",
      " |-- order_status: string (nullable = true)\n",
      " |-- order_purchase_timestamp: timestamp (nullable = true)\n",
      " |-- order_approved_at: timestamp (nullable = true)\n",
      " |-- order_delivered_carrier_date: timestamp (nullable = true)\n",
      " |-- order_delivered_customer_date: timestamp (nullable = true)\n",
      " |-- order_estimated_delivery_date: date (nullable = true)\n",
      " |-- order_purchase_date: date (nullable = true)\n",
      " |-- order_delivered_date: date (nullable = true)\n",
      " |-- order_item_id: integer (nullable = true)\n",
      " |-- shipping_limit_date: timestamp (nullable = true)\n",
      " |-- price: double (nullable = true)\n",
      " |-- freight_value: double (nullable = true)\n",
      " |-- payment_sequential: integer (nullable = true)\n",
      " |-- payment_type: string (nullable = true)\n",
      " |-- payment_installments: integer (nullable = true)\n",
      " |-- payment_value: double (nullable = true)\n",
      " |-- customer_unique_id: string (nullable = true)\n",
      " |-- customer_zip_code_prefix: string (nullable = true)\n",
      " |-- customer_city: string (nullable = true)\n",
      " |-- customer_state: string (nullable = true)\n",
      " |-- product_name_lenght: integer (nullable = true)\n",
      " |-- product_description_lenght: integer (nullable = true)\n",
      " |-- product_photos_qty: integer (nullable = true)\n",
      " |-- product_weight_g: integer (nullable = true)\n",
      " |-- product_length_cm: integer (nullable = true)\n",
      " |-- product_height_cm: integer (nullable = true)\n",
      " |-- product_width_cm: integer (nullable = true)\n",
      " |-- product_size_category: string (nullable = true)\n",
      " |-- seller_zip_code_prefix: integer (nullable = true)\n",
      " |-- seller_city: string (nullable = true)\n",
      " |-- seller_state: string (nullable = true)\n",
      " |-- review_id: string (nullable = true)\n",
      " |-- review_score: integer (nullable = true)\n",
      " |-- review_comment_title: string (nullable = true)\n",
      " |-- review_comment_message: string (nullable = true)\n",
      " |-- review_creation_date: timestamp (nullable = true)\n",
      " |-- review_answer_timestamp: timestamp (nullable = true)\n",
      " |-- geolocation_zip_code_prefix: string (nullable = true)\n",
      " |-- geolocation_lat: double (nullable = true)\n",
      " |-- geolocation_lng: double (nullable = true)\n",
      " |-- geolocation_city: string (nullable = true)\n",
      " |-- geolocation_state: string (nullable = true)\n",
      " |-- product_category_name: string (nullable = true)\n",
      " |-- customer_segment: string (nullable = true)\n",
      " |-- hour_of_day: integer (nullable = true)\n",
      " |-- order_day_type: string (nullable = true)\n",
      "\n"
     ]
    }
   ],
   "source": [
    "full_orders_df.printSchema()"
   ]
  },
  {
   "cell_type": "code",
   "execution_count": 22,
   "id": "a2035256-8c8a-4299-9ad3-b35a793b0066",
   "metadata": {},
   "outputs": [],
   "source": [
    "# Broadcast\n",
    "customers_broadcast_df = broadcast(customers_df)\n",
    "optimized_broadcast_join = full_orders_df.join(customers_broadcast_df,'customer_id')"
   ]
  },
  {
   "cell_type": "code",
   "execution_count": 23,
   "id": "0f6516f3-886d-4422-a3c2-bf9938b01afe",
   "metadata": {},
   "outputs": [],
   "source": [
    "# Sort and Merge join\n",
    "sorted_customers_df = customers_df.sortWithinPartitions('customer_id')\n",
    "sorted_orders_df = full_orders_df.sortWithinPartitions('customer_id')\n",
    "optimized_merge_full_orders_df = sorted_orders_df.join(sorted_customers_df,'customer_id')"
   ]
  },
  {
   "cell_type": "code",
   "execution_count": 24,
   "id": "c0f39345-9354-461b-8166-5dfc72ad5e40",
   "metadata": {},
   "outputs": [],
   "source": [
    "# Bucket join\n",
    "bucketed_customers_df = customers_df.repartition(10,'customer_id')\n",
    "bucketed_orders_df = full_orders_df.repartition(10,'customer_id')\n",
    "bucket_join_df = bucketed_orders_df.join(bucketed_customers_df,'customer_id')"
   ]
  },
  {
   "cell_type": "code",
   "execution_count": 25,
   "id": "e20c31b1-812a-4523-87cc-986b93e3ce77",
   "metadata": {},
   "outputs": [],
   "source": [
    "# Skew Join handling\n",
    "skew_handled_join = full_orders_df.join(customers_df,'customer_id')"
   ]
  },
  {
   "cell_type": "code",
   "execution_count": 27,
   "id": "f82fb6ef-53a9-46bc-9f2d-73a44670574c",
   "metadata": {},
   "outputs": [
    {
     "name": "stdout",
     "output_type": "stream",
     "text": [
      "Total records: 18060583\n"
     ]
    }
   ],
   "source": [
    "# Caching\n",
    "# Caching the main integrated DataFrame\n",
    "full_orders_df.cache()\n",
    "\n",
    "# Trigger caching\n",
    "print(\"Total records:\", full_orders_df.count())"
   ]
  },
  {
   "cell_type": "code",
   "execution_count": null,
   "id": "93dca798-affa-4b71-b2ab-4c618514c8a4",
   "metadata": {},
   "outputs": [],
   "source": []
  }
 ],
 "metadata": {
  "kernelspec": {
   "display_name": "Python 3 (ipykernel)",
   "language": "python",
   "name": "python3"
  },
  "language_info": {
   "codemirror_mode": {
    "name": "ipython",
    "version": 3
   },
   "file_extension": ".py",
   "mimetype": "text/x-python",
   "name": "python",
   "nbconvert_exporter": "python",
   "pygments_lexer": "ipython3",
   "version": "3.10.18"
  }
 },
 "nbformat": 4,
 "nbformat_minor": 5
}
